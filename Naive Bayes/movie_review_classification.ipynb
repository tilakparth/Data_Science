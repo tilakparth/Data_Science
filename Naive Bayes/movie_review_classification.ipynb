{
 "cells": [
  {
   "cell_type": "markdown",
   "metadata": {},
   "source": [
    "### Create a NLP Pipeline to 'Clean' Reviews Data\n",
    "- Load Input File and Read Reviews\n",
    "- Tokenize\n",
    "- Remove Stopwards\n",
    "- Perform Stemming \n",
    "- Write cleaned data to outpu"
   ]
  },
  {
   "cell_type": "code",
   "execution_count": 113,
   "metadata": {},
   "outputs": [],
   "source": [
    "import pandas as pd\n",
    "import numpy as np \n",
    "import matplotlib.pyplot as plt\n",
    "import seaborn as sns\n",
    "from sklearn.preprocessing import LabelEncoder\n",
    "from nltk import sent_tokenize,word_tokenize\n",
    "from nltk.tokenize import RegexpTokenizer\n",
    "from nltk.stem.porter import PorterStemmer\n",
    "from nltk.corpus import stopwords\n",
    "from sklearn.feature_extraction.text import CountVectorizer\n",
    "tokenizer = RegexpTokenizer(r'\\w+')\n",
    "en_stopwords = set(stopwords.words('english'))\n",
    "ps = PorterStemmer()"
   ]
  },
  {
   "cell_type": "code",
   "execution_count": 34,
   "metadata": {},
   "outputs": [],
   "source": [
    "def  clean_review(review):      ### Function to clean the data\n",
    "    review = review.lower()\n",
    "    review = review.replace(\"<br /><br />\",\" \")\n",
    "    # Tokenize\n",
    "    tokens = tokenizer.tokenize(review)\n",
    "    useful_words = [w for w in tokens if w not in en_stopwords]\n",
    "    stemmed_words = [ps.stem(w) for w in useful_words]\n",
    "    clean_review = ' '.join(stemmed_words)\n",
    "    return clean_review"
   ]
  },
  {
   "cell_type": "code",
   "execution_count": 35,
   "metadata": {},
   "outputs": [
    {
     "data": {
      "text/plain": [
       "'matur intellig highli charg melodrama unbelivebl film china 1948 wei wei stun perform catylast love triangl simpli stun oppurun see magnific film take'"
      ]
     },
     "execution_count": 35,
     "metadata": {},
     "output_type": "execute_result"
    }
   ],
   "source": [
    "clean_review(x_data.review[0])  #Example of cleaning of data"
   ]
  },
  {
   "cell_type": "code",
   "execution_count": 126,
   "metadata": {},
   "outputs": [],
   "source": [
    "x_data = pd.read_csv(\"../data/movie_rating_prediction/Train.csv\")\n",
    "le = LabelEncoder()\n",
    "# Applies transformation on each coloumn\n",
    "x_reviews = x_data.review.values\n",
    "rev_type = x_data.apply(le.fit_transform)\n",
    "rev_type = rev_type.label.values\n",
    "## pos = 1 in rev_type ans neg = 0\n",
    "# prepared the train data "
   ]
  },
  {
   "cell_type": "code",
   "execution_count": 172,
   "metadata": {},
   "outputs": [],
   "source": [
    "x_test = pd.read_csv(\"../data/movie_rating_prediction/Test.csv\")\n",
    "x_test = x_test.review.values\n",
    "# prepared the test data"
   ]
  },
  {
   "cell_type": "code",
   "execution_count": 146,
   "metadata": {},
   "outputs": [],
   "source": [
    "x_cleaned_reviews = x_data.review.values\n",
    "l = x_cleaned_reviews.shape[0]\n",
    "for i in range(l):\n",
    "    x_cleaned_reviews[i] = clean_review(x_cleaned_reviews[i])\n",
    "# Cleaned the reviews of train data"
   ]
  },
  {
   "cell_type": "code",
   "execution_count": 173,
   "metadata": {},
   "outputs": [],
   "source": [
    "l2 = x_test.shape[0]\n",
    "for i in range(l2):\n",
    "    x_test[i] = clean_review(x_test[i])\n",
    "#Cleaned the reviews of test data"
   ]
  },
  {
   "cell_type": "code",
   "execution_count": 111,
   "metadata": {},
   "outputs": [],
   "source": [
    "x_cleaned_reviews = pd.DataFrame(x_cleaned_reviews,columns=[\"review\"])"
   ]
  },
  {
   "cell_type": "code",
   "execution_count": 131,
   "metadata": {},
   "outputs": [],
   "source": [
    "x_cleaned_reviews.to_csv(\"../data/movie_rating_prediction/cleaned_data.csv\",index=False)\n",
    "# Created the clean_review file which contains cleaned reviews so that i do not need to clean every time"
   ]
  },
  {
   "cell_type": "code",
   "execution_count": 177,
   "metadata": {},
   "outputs": [],
   "source": [
    "x_reviews_list = []\n",
    "x_test_list = []\n",
    "for i in range(40000):\n",
    "    x_reviews_list.append(x_cleaned_reviews[i])\n",
    "for i in range(l2):\n",
    "    x_test_list.append(x_test[i])\n",
    "# prepared a list of reviews     "
   ]
  },
  {
   "cell_type": "markdown",
   "metadata": {},
   "source": [
    "### Vectorization"
   ]
  },
  {
   "cell_type": "code",
   "execution_count": 215,
   "metadata": {},
   "outputs": [],
   "source": [
    "cv = CountVectorizer()\n",
    "x_vec = cv.fit_transform(x_reviews_list)\n",
    "x_test_vec = cv.transform(x_test_list)"
   ]
  },
  {
   "cell_type": "code",
   "execution_count": null,
   "metadata": {},
   "outputs": [],
   "source": [
    "x_test_vec.shape,x_vec.shape"
   ]
  },
  {
   "cell_type": "markdown",
   "metadata": {},
   "source": [
    "### Multinomial Navie Bayes"
   ]
  },
  {
   "cell_type": "code",
   "execution_count": 193,
   "metadata": {},
   "outputs": [],
   "source": [
    "from sklearn.naive_bayes import MultinomialNB,BernoulliNB,GaussianNB"
   ]
  },
  {
   "cell_type": "code",
   "execution_count": 216,
   "metadata": {},
   "outputs": [],
   "source": [
    "mnb = MultinomialNB()\n",
    "bnb = BernoulliNB()"
   ]
  },
  {
   "cell_type": "code",
   "execution_count": 221,
   "metadata": {},
   "outputs": [
    {
     "data": {
      "text/plain": [
       "BernoulliNB()"
      ]
     },
     "execution_count": 221,
     "metadata": {},
     "output_type": "execute_result"
    }
   ],
   "source": [
    "mnb.fit(x_vec,rev_type)\n",
    "bnb.fit(x_vec,rev_type)\n",
    "x_test_pred_mnb =  mnb.predict(x_test_vec)\n",
    "x_test_pred_bnb =  bnb.predict(x_test_vec)"
   ]
  },
  {
   "cell_type": "code",
   "execution_count": 223,
   "metadata": {},
   "outputs": [],
   "source": [
    "rev_test_type_mnb = []\n",
    "rev_test_type_bnb = []\n",
    "for i in range(10000):\n",
    "    if x_test_pred_mnb[i]:\n",
    "        rev_test_type_mnb.append(\"pos\")\n",
    "    else:\n",
    "        rev_test_type_mnb.append(\"neg\")\n",
    "    if x_test_pred_bnb[i]:\n",
    "        rev_test_type_bnb.append(\"pos\")\n",
    "    else:\n",
    "        rev_test_type_bnb.append(\"neg\")    "
   ]
  },
  {
   "cell_type": "code",
   "execution_count": 224,
   "metadata": {},
   "outputs": [],
   "source": [
    "ans_df_mnb = pd.DataFrame(rev_test_type_mnb,columns=[\"label\"])\n",
    "ans_df_mnb.index.name = \"Id\"\n",
    "ans_df_bnb = pd.DataFrame(rev_test_type_bnb,columns=[\"label\"])\n",
    "ans_df_bnb.index.name = \"Id\"\n",
    "ans_df_mnb.to_csv(\"../data/movie_rating_prediction/ans_mnb.csv\")\n",
    "ans_df_bnb.to_csv(\"../data/movie_rating_prediction/ans_bnb.csv\")"
   ]
  },
  {
   "cell_type": "code",
   "execution_count": 236,
   "metadata": {},
   "outputs": [
    {
     "data": {
      "text/plain": [
       "array([[9.99998157e-01, 1.84254866e-06]])"
      ]
     },
     "execution_count": 236,
     "metadata": {},
     "output_type": "execute_result"
    }
   ],
   "source": [
    "mnb.predict_proba(x_test_vec[5])"
   ]
  },
  {
   "cell_type": "code",
   "execution_count": 238,
   "metadata": {},
   "outputs": [
    {
     "data": {
      "text/plain": [
       "0.89035"
      ]
     },
     "execution_count": 238,
     "metadata": {},
     "output_type": "execute_result"
    }
   ],
   "source": [
    "mnb.score(x_vec,rev_type)"
   ]
  },
  {
   "cell_type": "code",
   "execution_count": 239,
   "metadata": {},
   "outputs": [
    {
     "data": {
      "text/plain": [
       "0.885725"
      ]
     },
     "execution_count": 239,
     "metadata": {},
     "output_type": "execute_result"
    }
   ],
   "source": [
    "bnb.score(x_vec,rev_type)"
   ]
  }
 ],
 "metadata": {
  "kernelspec": {
   "display_name": "Python 3",
   "language": "python",
   "name": "python3"
  },
  "language_info": {
   "codemirror_mode": {
    "name": "ipython",
    "version": 3
   },
   "file_extension": ".py",
   "mimetype": "text/x-python",
   "name": "python",
   "nbconvert_exporter": "python",
   "pygments_lexer": "ipython3",
   "version": "3.8.3"
  }
 },
 "nbformat": 4,
 "nbformat_minor": 4
}
