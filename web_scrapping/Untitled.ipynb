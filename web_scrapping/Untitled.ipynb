{
 "cells": [
  {
   "cell_type": "code",
   "execution_count": 1,
   "metadata": {},
   "outputs": [
    {
     "name": "stdout",
     "output_type": "stream",
     "text": [
      "Requirement already satisfied: bs4 in c:\\users\\tilak\\appdata\\local\\programs\\python\\python38-32\\lib\\site-packages (0.0.1)\n",
      "Requirement already satisfied: beautifulsoup4 in c:\\users\\tilak\\appdata\\local\\programs\\python\\python38-32\\lib\\site-packages (from bs4) (4.9.1)\n",
      "Requirement already satisfied: soupsieve>1.2 in c:\\users\\tilak\\appdata\\local\\programs\\python\\python38-32\\lib\\site-packages (from beautifulsoup4->bs4) (2.0.1)\n"
     ]
    }
   ],
   "source": [
    "!pip install bs4"
   ]
  },
  {
   "cell_type": "code",
   "execution_count": 4,
   "metadata": {},
   "outputs": [
    {
     "name": "stdout",
     "output_type": "stream",
     "text": [
      "Collecting request\n",
      "  Downloading request-2019.4.13.tar.gz (1.3 kB)\n",
      "Collecting get\n",
      "  Downloading get-2019.4.13.tar.gz (1.3 kB)\n",
      "Collecting post\n",
      "  Downloading post-2019.4.13.tar.gz (1.3 kB)\n",
      "Requirement already satisfied: setuptools in c:\\users\\tilak\\appdata\\local\\programs\\python\\python38-32\\lib\\site-packages (from request) (41.2.0)\n",
      "Collecting query_string\n",
      "  Downloading query-string-2019.4.13.tar.gz (1.6 kB)\n",
      "Collecting public\n",
      "  Downloading public-2019.4.13.tar.gz (2.3 kB)\n",
      "Building wheels for collected packages: request, get, post, query-string, public\n",
      "  Building wheel for request (setup.py): started\n",
      "  Building wheel for request (setup.py): finished with status 'done'\n",
      "  Created wheel for request: filename=request-2019.4.13-py3-none-any.whl size=1681 sha256=f582cf308004af99dc614d6f6b236f49bc32aa6eaf2d16b8632c4bfe0a270d81\n",
      "  Stored in directory: c:\\users\\tilak\\appdata\\local\\pip\\cache\\wheels\\29\\c2\\a5\\f437d6a64263acb19182cfa42b4487a711d419d9fafb2db264\n",
      "  Building wheel for get (setup.py): started\n",
      "  Building wheel for get (setup.py): finished with status 'done'\n",
      "  Created wheel for get: filename=get-2019.4.13-py3-none-any.whl size=1696 sha256=81c979deec5b21166ae0af47aca3fd5830b3ee11d61e515ad9f61d0f4c987600\n",
      "  Stored in directory: c:\\users\\tilak\\appdata\\local\\pip\\cache\\wheels\\48\\69\\49\\aecdf882e5c150d577e2293f09a51bfdb276abb41742f67e75\n",
      "  Building wheel for post (setup.py): started\n",
      "  Building wheel for post (setup.py): finished with status 'done'\n",
      "  Created wheel for post: filename=post-2019.4.13-py3-none-any.whl size=1665 sha256=8ba698d88261675b692251f1838d3481576b2d74b4720dae2123d818c2502fbd\n",
      "  Stored in directory: c:\\users\\tilak\\appdata\\local\\pip\\cache\\wheels\\59\\43\\82\\591be16e9747432311255e30008bf2bf0ffe68c7da30ec4374\n",
      "  Building wheel for query-string (setup.py): started\n",
      "  Building wheel for query-string (setup.py): finished with status 'done'\n",
      "  Created wheel for query-string: filename=query_string-2019.4.13-py3-none-any.whl size=2054 sha256=7e0523850f8ba008a8777463e2fd99d61062f3c267d1c179bce1b0b2a8f942fc\n",
      "  Stored in directory: c:\\users\\tilak\\appdata\\local\\pip\\cache\\wheels\\5b\\05\\a3\\eef676684dc188f229b612c003a0eaf5cb9fbac8c50c0d4a42\n",
      "  Building wheel for public (setup.py): started\n",
      "  Building wheel for public (setup.py): finished with status 'done'\n",
      "  Created wheel for public: filename=public-2019.4.13-py3-none-any.whl size=2540 sha256=36c51c27b6250eaf463df802dc40f5bf1f52a6f43af52d3054b865de8bbd56ab\n",
      "  Stored in directory: c:\\users\\tilak\\appdata\\local\\pip\\cache\\wheels\\24\\f6\\53\\2d8bc46a815b2c176056f714cfa2b4a9736913f38a14efb320\n",
      "Successfully built request get post query-string public\n",
      "Installing collected packages: public, query-string, get, post, request\n",
      "Successfully installed get-2019.4.13 post-2019.4.13 public-2019.4.13 query-string-2019.4.13 request-2019.4.13\n"
     ]
    }
   ],
   "source": [
    "!pip install request"
   ]
  },
  {
   "cell_type": "code",
   "execution_count": 5,
   "metadata": {},
   "outputs": [],
   "source": [
    "from urllib.request import urlopen"
   ]
  },
  {
   "cell_type": "code",
   "execution_count": 6,
   "metadata": {},
   "outputs": [],
   "source": [
    "android_url = \"https://en.wikipedia.org/wiki/Android_version_history\""
   ]
  },
  {
   "cell_type": "code",
   "execution_count": 7,
   "metadata": {},
   "outputs": [
    {
     "name": "stdout",
     "output_type": "stream",
     "text": [
      "<class 'http.client.HTTPResponse'>\n"
     ]
    }
   ],
   "source": [
    "android_data = urlopen(android_url)\n",
    "print(type(android_data))"
   ]
  },
  {
   "cell_type": "code",
   "execution_count": 11,
   "metadata": {},
   "outputs": [],
   "source": [
    "android_html = android_data.read()\n",
    "# print(android_html)\n",
    "android_data.close()"
   ]
  },
  {
   "cell_type": "code",
   "execution_count": 26,
   "metadata": {},
   "outputs": [
    {
     "name": "stdout",
     "output_type": "stream",
     "text": [
      "    tilak cs scored 10 ans 20\n"
     ]
    }
   ],
   "source": [
    "a=10\n",
    "b=20\n",
    "name = \"    tilak cs\"\n",
    "\n",
    "print(f\"{name} scored {a} ans {b}\")"
   ]
  },
  {
   "cell_type": "code",
   "execution_count": null,
   "metadata": {},
   "outputs": [],
   "source": []
  },
  {
   "cell_type": "code",
   "execution_count": 20,
   "metadata": {},
   "outputs": [
    {
     "name": "stdout",
     "output_type": "stream",
     "text": [
      "tilak 5 dsfvv\n"
     ]
    }
   ],
   "source": [
    "print(\"{} {} {}\".format(\"tilak\",5,\"dsfvv\") )"
   ]
  },
  {
   "cell_type": "code",
   "execution_count": 37,
   "metadata": {},
   "outputs": [
    {
     "name": "stdout",
     "output_type": "stream",
     "text": [
      "25313 561 1 51 616 2\n"
     ]
    }
   ],
   "source": [
    "a = list(map(int,(input().split(' '))))"
   ]
  },
  {
   "cell_type": "code",
   "execution_count": 39,
   "metadata": {},
   "outputs": [
    {
     "data": {
      "text/plain": [
       "int"
      ]
     },
     "execution_count": 39,
     "metadata": {},
     "output_type": "execute_result"
    }
   ],
   "source": [
    "type(a[0])"
   ]
  },
  {
   "cell_type": "code",
   "execution_count": null,
   "metadata": {},
   "outputs": [],
   "source": []
  }
 ],
 "metadata": {
  "kernelspec": {
   "display_name": "Python 3",
   "language": "python",
   "name": "python3"
  },
  "language_info": {
   "codemirror_mode": {
    "name": "ipython",
    "version": 3
   },
   "file_extension": ".py",
   "mimetype": "text/x-python",
   "name": "python",
   "nbconvert_exporter": "python",
   "pygments_lexer": "ipython3",
   "version": "3.8.3"
  }
 },
 "nbformat": 4,
 "nbformat_minor": 4
}
