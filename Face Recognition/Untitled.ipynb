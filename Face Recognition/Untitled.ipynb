{
 "cells": [
  {
   "cell_type": "code",
   "execution_count": 1,
   "metadata": {},
   "outputs": [],
   "source": [
    "import cv2\n",
    "import numpy as np\n",
    "import os \n",
    "import pandas as pd\n"
   ]
  },
  {
   "cell_type": "markdown",
   "metadata": {},
   "source": [
    "#### Generating selfie training data using webcam"
   ]
  },
  {
   "cell_type": "code",
   "execution_count": 105,
   "metadata": {},
   "outputs": [
    {
     "name": "stdout",
     "output_type": "stream",
     "text": [
      "Enter the file name:Harshu\n",
      "1\n",
      "2\n",
      "3\n",
      "4\n",
      "5\n",
      "6\n",
      "7\n",
      "8\n",
      "9\n",
      "10\n",
      "11\n",
      "12\n",
      "13\n",
      "14\n",
      "15\n",
      "16\n",
      "17\n",
      "18\n",
      "19\n",
      "20\n",
      "21\n",
      "22\n",
      "(22, 30000)\n",
      "Data stored at :./face_data/Harshu.npy\n"
     ]
    }
   ],
   "source": [
    "cap = cv2.VideoCapture(0)\n",
    "face_cascade = cv2.CascadeClassifier(\"haarcascade_frontalface_alt.xml\")\n",
    "\n",
    "name = input(\"Enter the file name:\")\n",
    "skip = 0\n",
    "face_data = []\n",
    "dataset_path = \"./face_data/\"\n",
    "count = 1\n",
    "while True:\n",
    "    ret,frame = cap.read()\n",
    "    if(ret==False): continue\n",
    "    gray_frame = cv2.cvtColor(frame,cv2.COLOR_BGR2GRAY)    \n",
    "    faces = face_cascade.detectMultiScale(frame,1.3,5)\n",
    "    \n",
    "    faces = sorted(faces,key = lambda f:f[2]*f[3],reverse=True)\n",
    "    for face in faces:\n",
    "        x,y,w,h  = face\n",
    "        cv2.rectangle(frame,(x,y),(x+w,y+h),(0,0,255),2)\n",
    "        offset = 10;\n",
    "        face_section = frame[y-offset:y+offset+h,x-offset:x+offset+w]\n",
    "        face_section = cv2.resize(face_section,(100,100))\n",
    "        cv2.imshow(\"face\",face_section)\n",
    "        if(skip%10==0):\n",
    "            face_data.append(face_section)\n",
    "            print(count)\n",
    "            count +=1\n",
    "        skip = skip+1        \n",
    "    cv2.imshow(\"Frame\",frame)\n",
    "    key_pressed = cv2.waitKey(1) & 0xFF\n",
    "    if key_pressed == ord('q'): break\n",
    "        \n",
    "face_data = np.asarray(face_data)\n",
    "face_data = face_data.reshape((face_data.shape[0],-1))\n",
    "print(face_data.shape)\n",
    "\n",
    "np.save(dataset_path+name+\".npy\",face_data,)\n",
    "print(\"Data stored at :\"+dataset_path+name+\".npy\")\n",
    "\n",
    "cap.release()\n",
    "cv2.destroyAllWindows()\n"
   ]
  },
  {
   "cell_type": "code",
   "execution_count": null,
   "metadata": {},
   "outputs": [],
   "source": []
  },
  {
   "cell_type": "markdown",
   "metadata": {},
   "source": [
    "### Building Face Classifier"
   ]
  },
  {
   "cell_type": "markdown",
   "metadata": {},
   "source": [
    "##### knn function "
   ]
  },
  {
   "cell_type": "code",
   "execution_count": 2,
   "metadata": {},
   "outputs": [],
   "source": [
    "def dis(x1,x2):\n",
    "    return np.sqrt(sum((x1-x2)**2))\n",
    "\n",
    "def knn(X,Y,queryPoint,k=5):\n",
    "    vals = []\n",
    "    m = X.shape[0]\n",
    "    for i in range(m):\n",
    "        d =dis(queryPoint,X[i]);\n",
    "        vals.append((d,Y[i]))\n",
    "    vals = sorted(vals)\n",
    "    vals = vals[:k]\n",
    "    vals = np.array(vals)\n",
    "    vals = vals[:,1]\n",
    "    new_vals = np.unique(vals,return_counts=True) \n",
    "#     print(vals)\n",
    "    max_freq_index = new_vals[1].argmax()\n",
    "    return new_vals[0][max_freq_index]\n",
    "#     print(vals)\n",
    "    "
   ]
  },
  {
   "cell_type": "markdown",
   "metadata": {},
   "source": [
    "##### Preparing data for knn from the face_data folder as X_train,Y_train"
   ]
  },
  {
   "cell_type": "code",
   "execution_count": 4,
   "metadata": {},
   "outputs": [
    {
     "name": "stdout",
     "output_type": "stream",
     "text": [
      "Loaded Harshu.npy\n",
      "(22, 30000)\n",
      "(22, 30000)\n",
      "(22,)\n",
      "Loaded mamta.npy\n",
      "(21, 30000)\n",
      "(43, 30000)\n",
      "(43,)\n",
      "Loaded tilak.npy\n",
      "(21, 30000)\n",
      "(64, 30000)\n",
      "(64,)\n",
      "Loaded tilakparth.npy\n",
      "(15, 30000)\n",
      "(79, 30000)\n",
      "(79,)\n"
     ]
    }
   ],
   "source": [
    "face_data = []\n",
    "dataset_path = \"./face_data/\"\n",
    "label = []\n",
    "class_id = 0 #labels for given file\n",
    "names = {}  #Mapping btw id-name\n",
    "for fx in os.listdir(dataset_path):\n",
    "    if fx.endswith('.npy'):\n",
    "        print(\"Loaded \"+fx)\n",
    "        data_item = np.load(dataset_path+fx)\n",
    "        print(data_item.shape)\n",
    "        face_data.append(data_item)\n",
    "        names[class_id] = fx[:-4]\n",
    "        target = class_id*np.ones((data_item.shape[0],))\n",
    "        class_id +=1 \n",
    "        label.append(target)\n",
    "        train_X = np.concatenate(face_data,axis=0)\n",
    "        train_Y = np.concatenate(label,axis=0)\n",
    "        print(train_X.shape)\n",
    "        print(train_Y.shape)\n",
    "        "
   ]
  },
  {
   "cell_type": "markdown",
   "metadata": {},
   "source": [
    "# Displaying names of the person "
   ]
  },
  {
   "cell_type": "code",
   "execution_count": 5,
   "metadata": {},
   "outputs": [],
   "source": [
    "cap = cv2.VideoCapture(0)\n",
    "face_cascade = cv2.CascadeClassifier(\"haarcascade_frontalface_alt.xml\")\n",
    "skip = 0\n",
    "\n",
    "while True:\n",
    "    ret,frame = cap.read()\n",
    "    if(ret==False): continue\n",
    "    gray_frame = cv2.cvtColor(frame,cv2.COLOR_BGR2GRAY)    \n",
    "    faces = face_cascade.detectMultiScale(frame,1.3,5)\n",
    "    \n",
    "    for face in faces:\n",
    "        x,y,w,h  = face\n",
    "        \n",
    "        offset = 10;\n",
    "        face_section = frame[y-offset:y+offset+h,x-offset:x+offset+w]\n",
    "        face_section = cv2.resize(face_section,(100,100))\n",
    "        out = knn(train_X,train_Y,face_section.flatten())\n",
    "        cv2.rectangle(frame,(x,y+10),(x+w,y+h),(0,0,255),2)\n",
    "        cv2.putText(frame,names[out],(x,y),cv2.FONT_HERSHEY_SIMPLEX,1,(255,0,0),2,cv2.LINE_AA)\n",
    "# #         print(names[out])\n",
    "#         if(skip%10==0):\n",
    "#             print(names[out])\n",
    "#         skip = skip+1        \n",
    "    cv2.imshow(\"Frame\",frame)\n",
    "    key_pressed = cv2.waitKey(1) & 0xFF\n",
    "    if key_pressed == ord('q'): break\n",
    "\n",
    "\n",
    "cap.release()\n",
    "cv2.destroyAllWindows()  \n",
    "\n",
    "\n"
   ]
  },
  {
   "cell_type": "code",
   "execution_count": null,
   "metadata": {},
   "outputs": [],
   "source": []
  }
 ],
 "metadata": {
  "kernelspec": {
   "display_name": "Python 3",
   "language": "python",
   "name": "python3"
  },
  "language_info": {
   "codemirror_mode": {
    "name": "ipython",
    "version": 3
   },
   "file_extension": ".py",
   "mimetype": "text/x-python",
   "name": "python",
   "nbconvert_exporter": "python",
   "pygments_lexer": "ipython3",
   "version": "3.8.3"
  }
 },
 "nbformat": 4,
 "nbformat_minor": 4
}
