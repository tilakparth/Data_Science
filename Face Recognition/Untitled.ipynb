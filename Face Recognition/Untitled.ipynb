{
 "cells": [
  {
   "cell_type": "code",
   "execution_count": 1,
   "metadata": {},
   "outputs": [],
   "source": [
    "import cv2\n",
    "import numpy as np"
   ]
  },
  {
   "cell_type": "code",
   "execution_count": 26,
   "metadata": {},
   "outputs": [
    {
     "name": "stdout",
     "output_type": "stream",
     "text": [
      "Enter the file name:tilakparth\n",
      "(15, 30000)\n",
      "Data stored at :./face_data/tilakparth.npy\n"
     ]
    }
   ],
   "source": [
    "cap = cv2.VideoCapture(0)\n",
    "face_cascade = cv2.CascadeClassifier(\"haarcascade_frontalface_alt.xml\")\n",
    "\n",
    "name = input(\"Enter the file name:\")\n",
    "skip = 0\n",
    "face_data = []\n",
    "dataset_path = \"./face_data/\"\n",
    "\n",
    "while True:\n",
    "    ret,frame = cap.read()\n",
    "    if(ret==False): continue\n",
    "    gray_frame = cv2.cvtColor(frame,cv2.COLOR_BGR2GRAY)    \n",
    "    faces = face_cascade.detectMultiScale(frame,1.3,5)\n",
    "    \n",
    "    faces = sorted(faces,key = lambda f:f[2]*f[3],reverse=True)\n",
    "    for face in faces:\n",
    "        x,y,w,h  = face\n",
    "        cv2.rectangle(frame,(x,y),(x+w,y+h),(0,0,255),2)\n",
    "        \n",
    "        offset = 10;\n",
    "        face_section = frame[y-offset:y+offset+h,x-offset:x+offset+w]\n",
    "        face_section = cv2.resize(face_section,(100,100))\n",
    "        cv2.imshow(\"face\",face_section)\n",
    "        if(skip%10==0):\n",
    "            face_data.append(face_section)\n",
    "#             print(len(face_data))\n",
    "        skip = skip+1\n",
    "        \n",
    "        \n",
    "    cv2.imshow(\"Frame\",frame)\n",
    "    key_pressed = cv2.waitKey(1) & 0xFF\n",
    "    if key_pressed == ord('q'): break\n",
    "        \n",
    "face_data = np.asarray(face_data)\n",
    "face_data = face_data.reshape((face_data.shape[0],-1))\n",
    "print(face_data.shape)\n",
    "\n",
    "np.save(dataset_path+name+\".npy\",face_data,)\n",
    "print(\"Data stored at :\"+dataset_path+name+\".npy\")\n",
    "\n",
    "cap.release()\n",
    "cv2.destroyAllWindows()\n"
   ]
  },
  {
   "cell_type": "code",
   "execution_count": 5,
   "metadata": {},
   "outputs": [],
   "source": [
    "cv2.waitKey?"
   ]
  }
 ],
 "metadata": {
  "kernelspec": {
   "display_name": "Python 3",
   "language": "python",
   "name": "python3"
  },
  "language_info": {
   "codemirror_mode": {
    "name": "ipython",
    "version": 3
   },
   "file_extension": ".py",
   "mimetype": "text/x-python",
   "name": "python",
   "nbconvert_exporter": "python",
   "pygments_lexer": "ipython3",
   "version": "3.8.3"
  }
 },
 "nbformat": 4,
 "nbformat_minor": 4
}
