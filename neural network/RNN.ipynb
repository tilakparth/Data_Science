{
  "nbformat": 4,
  "nbformat_minor": 0,
  "metadata": {
    "colab": {
      "name": "RNN.ipynb",
      "provenance": [],
      "include_colab_link": true
    },
    "kernelspec": {
      "name": "python3",
      "display_name": "Python 3"
    },
    "accelerator": "TPU"
  },
  "cells": [
    {
      "cell_type": "markdown",
      "metadata": {
        "id": "view-in-github",
        "colab_type": "text"
      },
      "source": [
        "<a href=\"https://colab.research.google.com/github/tilakparth/Data_Science/blob/master/neural%20network/RNN.ipynb\" target=\"_parent\"><img src=\"https://colab.research.google.com/assets/colab-badge.svg\" alt=\"Open In Colab\"/></a>"
      ]
    },
    {
      "cell_type": "markdown",
      "metadata": {
        "id": "HJLCy0s2AEfj"
      },
      "source": [
        "# RNN"
      ]
    },
    {
      "cell_type": "markdown",
      "metadata": {
        "id": "hsxOlc9I7vMO"
      },
      "source": [
        "### IMDB analysis using RNN"
      ]
    },
    {
      "cell_type": "code",
      "metadata": {
        "id": "O7x5P3-SADCl"
      },
      "source": [
        "import numpy as np\n",
        "import matplotlib.pyplot as plt\n",
        "import pandas as pd\n",
        "from keras.datasets import imdb \n",
        "from keras.callbacks import ModelCheckpoint\n",
        "from keras.callbacks import EarlyStopping"
      ],
      "execution_count": 1,
      "outputs": []
    },
    {
      "cell_type": "code",
      "metadata": {
        "id": "8oFO0kRj8P_b",
        "outputId": "fbf90342-c165-4a5c-b76e-09c5b97003c7",
        "colab": {
          "base_uri": "https://localhost:8080/",
          "height": 84
        }
      },
      "source": [
        "((XT,YT),(Xt,Yt)) = imdb.load_data(num_words=10000)\n",
        "word_index = imdb.get_word_index()"
      ],
      "execution_count": 2,
      "outputs": [
        {
          "output_type": "stream",
          "text": [
            "Downloading data from https://storage.googleapis.com/tensorflow/tf-keras-datasets/imdb.npz\n",
            "17465344/17464789 [==============================] - 0s 0us/step\n",
            "Downloading data from https://storage.googleapis.com/tensorflow/tf-keras-datasets/imdb_word_index.json\n",
            "1646592/1641221 [==============================] - 0s 0us/step\n"
          ],
          "name": "stdout"
        }
      ]
    },
    {
      "cell_type": "code",
      "metadata": {
        "id": "sprGg1J98SVR"
      },
      "source": [
        "print(len(XT),len(Xt))\n",
        "print(len(XT[0]),len(XT[1]))\n",
        "print(XT[0])\n",
        "print(word_index.items())"
      ],
      "execution_count": null,
      "outputs": []
    },
    {
      "cell_type": "code",
      "metadata": {
        "id": "jP7oOXr58ST_",
        "outputId": "3b978817-ff7c-4d72-e709-f8f6e9ac4b0b",
        "colab": {
          "base_uri": "https://localhost:8080/",
          "height": 54
        }
      },
      "source": [
        "idx_word = dict([value,key] for (key,value) in word_index.items())\n",
        "actual_review = ' '.join([idx_word.get(idx-3,'?') for idx in XT[0]])\n",
        "print(actual_review)"
      ],
      "execution_count": 4,
      "outputs": [
        {
          "output_type": "stream",
          "text": [
            "? this film was just brilliant casting location scenery story direction everyone's really suited the part they played and you could just imagine being there robert ? is an amazing actor and now the same being director ? father came from the same scottish island as myself so i loved the fact there was a real connection with this film the witty remarks throughout the film were great it was just brilliant so much that i bought the film as soon as it was released for ? and would recommend it to everyone to watch and the fly fishing was amazing really cried at the end it was so sad and you know what they say if you cry at a film it must have been good and this definitely was also ? to the two little boy's that played the ? of norman and paul they were just brilliant children are often left out of the ? list i think because the stars that play them all grown up are such a big profile for the whole film but these children are amazing and should be praised for what they have done don't you think the whole story was so lovely because it was true and was someone's life after all that was shared with us all\n"
          ],
          "name": "stdout"
        }
      ]
    },
    {
      "cell_type": "code",
      "metadata": {
        "id": "WqKRQduy8SQ-"
      },
      "source": [
        "## Create a 2D tensor to be processed by the embedding layer\n",
        "from keras.preprocessing import sequence\n",
        "## making each vector of size 500 by addding zeros at the start\n",
        "X_train = sequence.pad_sequences(XT,maxlen = 500)\n",
        "X_test = sequence.pad_sequences(Xt,maxlen = 500)"
      ],
      "execution_count": 5,
      "outputs": []
    },
    {
      "cell_type": "code",
      "metadata": {
        "id": "P-8czKRB-LAw",
        "outputId": "5df2c67a-f920-4ce9-a487-d12efd5135cf",
        "colab": {
          "base_uri": "https://localhost:8080/",
          "height": 50
        }
      },
      "source": [
        "print(X_train.shape)\n",
        "print(X_test.shape)"
      ],
      "execution_count": 6,
      "outputs": [
        {
          "output_type": "stream",
          "text": [
            "(25000, 500)\n",
            "(25000, 500)\n"
          ],
          "name": "stdout"
        }
      ]
    },
    {
      "cell_type": "code",
      "metadata": {
        "id": "gsMgkPjh8SMO",
        "outputId": "eb7877b7-86c9-4e56-92ed-f6a1acca6d27",
        "colab": {
          "base_uri": "https://localhost:8080/",
          "height": 252
        }
      },
      "source": [
        "## Create a model n kears\n",
        "\n",
        "from keras.layers import Embedding ,SimpleRNN , Dense\n",
        "from keras.models import Sequential \n",
        "\n",
        "model = Sequential()\n",
        "model.add(Embedding(100000,64))\n",
        "model.add(SimpleRNN(32))\n",
        "model.add(Dense(1,activation = \"sigmoid\"))\n",
        "model.summary()"
      ],
      "execution_count": 7,
      "outputs": [
        {
          "output_type": "stream",
          "text": [
            "Model: \"sequential\"\n",
            "_________________________________________________________________\n",
            "Layer (type)                 Output Shape              Param #   \n",
            "=================================================================\n",
            "embedding (Embedding)        (None, None, 64)          6400000   \n",
            "_________________________________________________________________\n",
            "simple_rnn (SimpleRNN)       (None, 32)                3104      \n",
            "_________________________________________________________________\n",
            "dense (Dense)                (None, 1)                 33        \n",
            "=================================================================\n",
            "Total params: 6,403,137\n",
            "Trainable params: 6,403,137\n",
            "Non-trainable params: 0\n",
            "_________________________________________________________________\n"
          ],
          "name": "stdout"
        }
      ]
    },
    {
      "cell_type": "code",
      "metadata": {
        "id": "vrKtuRB88SJJ"
      },
      "source": [
        "model.compile(optimizer=\"rmsprop\",loss = \"binary_crossentropy\",metrics = [\"acc\"])"
      ],
      "execution_count": 8,
      "outputs": []
    },
    {
      "cell_type": "code",
      "metadata": {
        "id": "9OIP8GTQ8SAn",
        "outputId": "69fff52b-a73d-43aa-e6fa-e75c9ad42ba7",
        "colab": {
          "base_uri": "https://localhost:8080/",
          "height": 134
        }
      },
      "source": [
        "## Saves the best model \n",
        "checkpoint = ModelCheckpoint(\"best_model.h5\",monitor= 'val_loss',save_best_only=True,period = 1)\n",
        "\n",
        "# TO save time it stops when our model seems to be stationary or not improving\n",
        "earlystop =  EarlyStopping(monitor=\"val_acc\",patience=1)\n",
        "hist = model.fit(X_train,YT,validation_split=0.2,epochs=10,batch_size=128,callbacks = [checkpoint,earlystop])"
      ],
      "execution_count": 9,
      "outputs": [
        {
          "output_type": "stream",
          "text": [
            "WARNING:tensorflow:`period` argument is deprecated. Please use `save_freq` to specify the frequency in number of batches seen.\n",
            "Epoch 1/10\n",
            "157/157 [==============================] - 24s 153ms/step - loss: 0.6031 - acc: 0.6581 - val_loss: 0.4875 - val_acc: 0.7680\n",
            "Epoch 2/10\n",
            "157/157 [==============================] - 24s 152ms/step - loss: 0.3631 - acc: 0.8487 - val_loss: 0.3878 - val_acc: 0.8262\n",
            "Epoch 3/10\n",
            "157/157 [==============================] - 24s 153ms/step - loss: 0.2551 - acc: 0.9003 - val_loss: 0.5023 - val_acc: 0.7616\n"
          ],
          "name": "stdout"
        }
      ]
    },
    {
      "cell_type": "code",
      "metadata": {
        "id": "ZUa3sFYh8RxO",
        "outputId": "20e35296-6329-4884-93cc-2ac721caa40a",
        "colab": {
          "base_uri": "https://localhost:8080/",
          "height": 361
        }
      },
      "source": [
        "plt.style.use('seaborn')\n",
        "plt.plot(hist.history['val_loss'],label=\"Validation Loss\")\n",
        "plt.plot(hist.history['loss'],label=\"Training Loss\")\n",
        "plt.xlabel(\"Epochs\")\n",
        "plt.ylabel(\"Loss\")\n",
        "plt.legend()\n",
        "plt.show()"
      ],
      "execution_count": 10,
      "outputs": [
        {
          "output_type": "display_data",
          "data": {
            "image/png": "[encoded data removed]",
            "text/plain": [
              "<Figure size 576x396 with 1 Axes>"
            ]
          },
          "metadata": {
            "tags": []
          }
        }
      ]
    },
    {
      "cell_type": "code",
      "metadata": {
        "id": "ENSQmhN5ArCj",
        "outputId": "982cfbb0-67fd-4dc2-9f06-17ac353f478d",
        "colab": {
          "base_uri": "https://localhost:8080/",
          "height": 361
        }
      },
      "source": [
        "plt.style.use('seaborn')\n",
        "plt.plot(hist.history['val_acc'],label=\"Validation accuracy\")\n",
        "plt.plot(hist.history['acc'],label=\"Training Accuracy\")\n",
        "plt.xlabel(\"Epochs\")\n",
        "plt.ylabel(\"Accuracy\")\n",
        "plt.legend()\n",
        "plt.show()"
      ],
      "execution_count": 11,
      "outputs": [
        {
          "output_type": "display_data",
          "data": {
            "image/png": "[encoded data removed]",
            "text/plain": [
              "<Figure size 576x396 with 1 Axes>"
            ]
          },
          "metadata": {
            "tags": []
          }
        }
      ]
    },
    {
      "cell_type": "code",
      "metadata": {
        "id": "sMfe-PsZk7Yz"
      },
      "source": [
        "model.save(\"my_model.h5\") ## hdf5 format, saves on the disk "
      ],
      "execution_count": 12,
      "outputs": []
    },
    {
      "cell_type": "code",
      "metadata": {
        "id": "V-PRBWnospHH",
        "outputId": "6ced242d-8f14-4bbe-ef68-0e1c6548ff5a",
        "colab": {
          "base_uri": "https://localhost:8080/",
          "height": 34
        }
      },
      "source": [
        "!ls"
      ],
      "execution_count": 13,
      "outputs": [
        {
          "output_type": "stream",
          "text": [
            "best_model.h5  my_model.h5  sample_data\n"
          ],
          "name": "stdout"
        }
      ]
    },
    {
      "cell_type": "code",
      "metadata": {
        "id": "JTJy64v1tBMp"
      },
      "source": [
        "model.load_weights(\"my_model.h5\")"
      ],
      "execution_count": 18,
      "outputs": []
    },
    {
      "cell_type": "code",
      "metadata": {
        "id": "ZJNVUkgJtJ2G",
        "outputId": "7c3e7a32-a19d-4e98-c060-6a963491c0eb",
        "colab": {
          "base_uri": "https://localhost:8080/",
          "height": 50
        }
      },
      "source": [
        "model.evaluate(X_test,Yt)"
      ],
      "execution_count": 15,
      "outputs": [
        {
          "output_type": "stream",
          "text": [
            "782/782 [==============================] - 16s 21ms/step - loss: 0.4957 - acc: 0.7559\n"
          ],
          "name": "stdout"
        },
        {
          "output_type": "execute_result",
          "data": {
            "text/plain": [
              "[0.4957340657711029, 0.7559199929237366]"
            ]
          },
          "metadata": {
            "tags": []
          },
          "execution_count": 15
        }
      ]
    },
    {
      "cell_type": "code",
      "metadata": {
        "id": "nmt4gKjktOIy",
        "outputId": "21a7c463-83d4-4efe-9d68-ccafd7013d69",
        "colab": {
          "base_uri": "https://localhost:8080/",
          "height": 50
        }
      },
      "source": [
        "model.evaluate(X_train,YT)"
      ],
      "execution_count": 16,
      "outputs": [
        {
          "output_type": "stream",
          "text": [
            "782/782 [==============================] - 16s 21ms/step - loss: 0.3674 - acc: 0.8335\n"
          ],
          "name": "stdout"
        },
        {
          "output_type": "execute_result",
          "data": {
            "text/plain": [
              "[0.3673568367958069, 0.8334800004959106]"
            ]
          },
          "metadata": {
            "tags": []
          },
          "execution_count": 16
        }
      ]
    },
    {
      "cell_type": "code",
      "metadata": {
        "id": "lQJOqr4PtXjV"
      },
      "source": [
        "\n",
        "model.load_weights(\"best_model.h5\")"
      ],
      "execution_count": 21,
      "outputs": []
    },
    {
      "cell_type": "code",
      "metadata": {
        "id": "IsBIDMdpyk1G",
        "outputId": "5b3f8cbd-5a87-43a0-bc38-464841e86640",
        "colab": {
          "base_uri": "https://localhost:8080/",
          "height": 50
        }
      },
      "source": [
        "model.evaluate(X_test,Yt)"
      ],
      "execution_count": 22,
      "outputs": [
        {
          "output_type": "stream",
          "text": [
            "782/782 [==============================] - 17s 22ms/step - loss: 0.3849 - acc: 0.8328\n"
          ],
          "name": "stdout"
        },
        {
          "output_type": "execute_result",
          "data": {
            "text/plain": [
              "[0.38488683104515076, 0.8327599763870239]"
            ]
          },
          "metadata": {
            "tags": []
          },
          "execution_count": 22
        }
      ]
    },
    {
      "cell_type": "code",
      "metadata": {
        "id": "YLfxlUtgymKv",
        "outputId": "7c9df6ef-3d8d-441b-9ce8-af5bc782f336",
        "colab": {
          "base_uri": "https://localhost:8080/",
          "height": 50
        }
      },
      "source": [
        "model.evaluate(X_train,YT)"
      ],
      "execution_count": 23,
      "outputs": [
        {
          "output_type": "stream",
          "text": [
            "782/782 [==============================] - 17s 22ms/step - loss: 0.2891 - acc: 0.8864\n"
          ],
          "name": "stdout"
        },
        {
          "output_type": "execute_result",
          "data": {
            "text/plain": [
              "[0.2891380786895752, 0.8863599896430969]"
            ]
          },
          "metadata": {
            "tags": []
          },
          "execution_count": 23
        }
      ]
    },
    {
      "cell_type": "code",
      "metadata": {
        "id": "hMgYEaMzyoGO"
      },
      "source": [
        ""
      ],
      "execution_count": 23,
      "outputs": []
    },
    {
      "cell_type": "markdown",
      "metadata": {
        "id": "QXj3vowevM2m"
      },
      "source": [
        "## Word2Vec Model  "
      ]
    },
    {
      "cell_type": "code",
      "metadata": {
        "id": "9CzKncq1vahY"
      },
      "source": [
        "import gensim\n",
        "from gensim.models import word2vec\n",
        "from gensim.models import  KeyedVectors\n",
        "from sklearn.metrics.pairwise import  cosine_similarity"
      ],
      "execution_count": 24,
      "outputs": []
    },
    {
      "cell_type": "code",
      "metadata": {
        "id": "zqU4QXDzwEkZ",
        "outputId": "e56add52-0170-4cbe-b3dc-746f0d4f2a2d",
        "colab": {
          "base_uri": "https://localhost:8080/",
          "height": 202
        }
      },
      "source": [
        "!wget -c \"https://s3.amazonaws.com/dl4j-distribution/GoogleNews-vectors-negative300.bin.gz\""
      ],
      "execution_count": 25,
      "outputs": [
        {
          "output_type": "stream",
          "text": [
            "--2020-11-04 16:19:30--  https://s3.amazonaws.com/dl4j-distribution/GoogleNews-vectors-negative300.bin.gz\n",
            "Resolving s3.amazonaws.com (s3.amazonaws.com)... 52.216.105.45\n",
            "Connecting to s3.amazonaws.com (s3.amazonaws.com)|52.216.105.45|:443... connected.\n",
            "HTTP request sent, awaiting response... 200 OK\n",
            "Length: 1647046227 (1.5G) [application/x-gzip]\n",
            "Saving to: ‘GoogleNews-vectors-negative300.bin.gz’\n",
            "\n",
            "GoogleNews-vectors- 100%[===================>]   1.53G  41.6MB/s    in 66s     \n",
            "\n",
            "2020-11-04 16:20:36 (23.9 MB/s) - ‘GoogleNews-vectors-negative300.bin.gz’ saved [1647046227/1647046227]\n",
            "\n"
          ],
          "name": "stdout"
        }
      ]
    },
    {
      "cell_type": "code",
      "metadata": {
        "id": "vliYQwarwqlJ"
      },
      "source": [
        "!gunzip -k GoogleNews-vectors-negative300.bin.gz"
      ],
      "execution_count": 26,
      "outputs": []
    },
    {
      "cell_type": "code",
      "metadata": {
        "id": "9WFqPJp62EPs"
      },
      "source": [
        "word_vectors = KeyedVectors.load_word2vec_format(\"GoogleNews-vectors-negative300.bin\",binary=True)\n"
      ],
      "execution_count": 27,
      "outputs": []
    },
    {
      "cell_type": "code",
      "metadata": {
        "id": "LVLn9Dyr2kFD"
      },
      "source": [
        "v_apple = word_vectors[\"apple\"]\n",
        "v_mango = word_vectors[\"mango\"]"
      ],
      "execution_count": 28,
      "outputs": []
    },
    {
      "cell_type": "code",
      "metadata": {
        "id": "MOE7uCrM3mot",
        "outputId": "ff46f0bd-cb8e-4d6e-c107-0c9d9b62c182",
        "colab": {
          "base_uri": "https://localhost:8080/",
          "height": 34
        }
      },
      "source": [
        "v_apple.shape,v_mango.shape"
      ],
      "execution_count": 29,
      "outputs": [
        {
          "output_type": "execute_result",
          "data": {
            "text/plain": [
              "((300,), (300,))"
            ]
          },
          "metadata": {
            "tags": []
          },
          "execution_count": 29
        }
      ]
    },
    {
      "cell_type": "code",
      "metadata": {
        "id": "RwHA53ee30Pj",
        "outputId": "90df4882-7f34-45b4-bfd2-820f5f7d2473",
        "colab": {
          "base_uri": "https://localhost:8080/",
          "height": 34
        }
      },
      "source": [
        "cosine_similarity([v_apple],[v_mango])"
      ],
      "execution_count": 30,
      "outputs": [
        {
          "output_type": "execute_result",
          "data": {
            "text/plain": [
              "array([[0.57518554]], dtype=float32)"
            ]
          },
          "metadata": {
            "tags": []
          },
          "execution_count": 30
        }
      ]
    },
    {
      "cell_type": "code",
      "metadata": {
        "id": "HjX0GXC1-g4g"
      },
      "source": [
        ""
      ],
      "execution_count": 30,
      "outputs": []
    },
    {
      "cell_type": "markdown",
      "metadata": {
        "id": "KrzpJEIJAGh8"
      },
      "source": [
        "# Question - Answer - Find odd one out"
      ]
    },
    {
      "cell_type": "code",
      "metadata": {
        "id": "weSAPHYnAKfx"
      },
      "source": [
        "def odd_one_out(words): # Accepts a list of words and return the odd word amng them\n",
        "    l = len(words)\n",
        "    # Gnerate all word embedding for the given list \n",
        "    all_words_vectors = [word_vectors[w] for w in words]\n",
        "    avg_vector = np.mean(all_words_vectors,axis=0)\n",
        "    sim = [cosine_similarity([avg_vector],[w]) for w in all_words_vectors]\n",
        "    min_sim = 1.0\n",
        "    odd_one_out = None\n",
        "    for i in range(l):\n",
        "        if sim[i] < min_sim:\n",
        "            min_sim = sim[i]\n",
        "            odd_one_out = words[i]\n",
        "        print(\"similarity b/w %s and avg vector is %0.2f\"%(words[i], sim[i]))\n",
        "    print(min_sim,odd_one_out)\n",
        "    return odd_one_out    \n",
        "\n",
        "\n"
      ],
      "execution_count": 31,
      "outputs": []
    },
    {
      "cell_type": "code",
      "metadata": {
        "id": "HjxbfiSHA7sO"
      },
      "source": [
        "input_1 = [\"apple\" , \"mango\",\"juice\", \"party\", \"orange\"]\n",
        "input_2 = [\"music\" , \"dance\" ,\"sleep\" ,\"dancer\" ,\"food\"]\n",
        "input_3 = [\"match\",\"player\",\"football\",\"cricket\",\"dancer\"]\n",
        "input_4 = [\"india\",\"paris\",\"russia\",\"france\",\"germany\"]"
      ],
      "execution_count": 32,
      "outputs": []
    },
    {
      "cell_type": "code",
      "metadata": {
        "id": "Lm759gRKBE3d",
        "outputId": "a113f3bb-15e3-4f5b-acfc-cdc0e12632f3",
        "colab": {
          "base_uri": "https://localhost:8080/",
          "height": 136
        }
      },
      "source": [
        "odd_one_out(input_1)"
      ],
      "execution_count": 33,
      "outputs": [
        {
          "output_type": "stream",
          "text": [
            "similarity b/w apple and avg vector is 0.78\n",
            "similarity b/w mango and avg vector is 0.76\n",
            "similarity b/w juice and avg vector is 0.71\n",
            "similarity b/w party and avg vector is 0.36\n",
            "similarity b/w orange and avg vector is 0.65\n",
            "[[0.357093]] party\n"
          ],
          "name": "stdout"
        },
        {
          "output_type": "execute_result",
          "data": {
            "application/vnd.google.colaboratory.intrinsic+json": {
              "type": "string"
            },
            "text/plain": [
              "'party'"
            ]
          },
          "metadata": {
            "tags": []
          },
          "execution_count": 33
        }
      ]
    },
    {
      "cell_type": "code",
      "metadata": {
        "id": "axJfgHYABMAw",
        "outputId": "ade80751-021b-4d9b-b9cd-231f30704ee0",
        "colab": {
          "base_uri": "https://localhost:8080/",
          "height": 136
        }
      },
      "source": [
        "odd_one_out(input_2)"
      ],
      "execution_count": 34,
      "outputs": [
        {
          "output_type": "stream",
          "text": [
            "similarity b/w music and avg vector is 0.66\n",
            "similarity b/w dance and avg vector is 0.81\n",
            "similarity b/w sleep and avg vector is 0.51\n",
            "similarity b/w dancer and avg vector is 0.72\n",
            "similarity b/w food and avg vector is 0.52\n",
            "[[0.5149707]] sleep\n"
          ],
          "name": "stdout"
        },
        {
          "output_type": "execute_result",
          "data": {
            "application/vnd.google.colaboratory.intrinsic+json": {
              "type": "string"
            },
            "text/plain": [
              "'sleep'"
            ]
          },
          "metadata": {
            "tags": []
          },
          "execution_count": 34
        }
      ]
    },
    {
      "cell_type": "code",
      "metadata": {
        "id": "0_TZiI2KFYxi",
        "outputId": "68400d12-6c4f-4694-b73a-ec4f45f9fceb",
        "colab": {
          "base_uri": "https://localhost:8080/",
          "height": 136
        }
      },
      "source": [
        "odd_one_out(input_3)"
      ],
      "execution_count": 35,
      "outputs": [
        {
          "output_type": "stream",
          "text": [
            "similarity b/w match and avg vector is 0.58\n",
            "similarity b/w player and avg vector is 0.68\n",
            "similarity b/w football and avg vector is 0.72\n",
            "similarity b/w cricket and avg vector is 0.70\n",
            "similarity b/w dancer and avg vector is 0.53\n",
            "[[0.52681357]] dancer\n"
          ],
          "name": "stdout"
        },
        {
          "output_type": "execute_result",
          "data": {
            "application/vnd.google.colaboratory.intrinsic+json": {
              "type": "string"
            },
            "text/plain": [
              "'dancer'"
            ]
          },
          "metadata": {
            "tags": []
          },
          "execution_count": 35
        }
      ]
    },
    {
      "cell_type": "code",
      "metadata": {
        "id": "Mi2s7MKmFb18",
        "outputId": "da4e7034-ddfd-46e2-cf52-bc08b2ac70f9",
        "colab": {
          "base_uri": "https://localhost:8080/",
          "height": 136
        }
      },
      "source": [
        "odd_one_out(input_4)"
      ],
      "execution_count": 36,
      "outputs": [
        {
          "output_type": "stream",
          "text": [
            "similarity b/w india and avg vector is 0.81\n",
            "similarity b/w paris and avg vector is 0.75\n",
            "similarity b/w russia and avg vector is 0.79\n",
            "similarity b/w france and avg vector is 0.81\n",
            "similarity b/w germany and avg vector is 0.84\n",
            "[[0.74804693]] paris\n"
          ],
          "name": "stdout"
        },
        {
          "output_type": "execute_result",
          "data": {
            "application/vnd.google.colaboratory.intrinsic+json": {
              "type": "string"
            },
            "text/plain": [
              "'paris'"
            ]
          },
          "metadata": {
            "tags": []
          },
          "execution_count": 36
        }
      ]
    },
    {
      "cell_type": "markdown",
      "metadata": {
        "id": "QTaDAEz3RP-f"
      },
      "source": [
        "# Word Analogies Task"
      ]
    },
    {
      "cell_type": "code",
      "metadata": {
        "id": "V01r0K5HRQ2H"
      },
      "source": [
        "def predict_word(a,b,c):\n",
        "    a = a.lower()\n",
        "    b = b.lower()\n",
        "    c = c.lower()\n",
        "    ## simalirity |b-a| = |d-c| should be maximum\n",
        "    wa,wb,wc = word_vectors[a],word_vectors[b],word_vectors[c]\n",
        "    words = word_vectors.vocab.keys()\n",
        "    # print(words)\n",
        "    max_sim = -100\n",
        "    d= None\n",
        "    for w in words:\n",
        "        if w in [a,b,c]:\n",
        "            continue\n",
        "        wv = word_vectors[w]\n",
        "        sim = cosine_similarity([wb-wa],[wv-wc])\n",
        "        if sim > max_sim:\n",
        "            sim = max_sim\n",
        "            d = w\n",
        "    return d"
      ],
      "execution_count": 44,
      "outputs": []
    },
    {
      "cell_type": "code",
      "metadata": {
        "id": "4x2rq7qHRRnt",
        "outputId": "c78f08cb-35b6-444e-9dc4-61580ebefe42",
        "colab": {
          "base_uri": "https://localhost:8080/",
          "height": 35
        }
      },
      "source": [
        "ans = predict_word(\"man\",\"woman\",\"king\")\n",
        "ans\n"
      ],
      "execution_count": 46,
      "outputs": [
        {
          "output_type": "execute_result",
          "data": {
            "application/vnd.google.colaboratory.intrinsic+json": {
              "type": "string"
            },
            "text/plain": [
              "'queen'"
            ]
          },
          "metadata": {
            "tags": []
          },
          "execution_count": 46
        }
      ]
    },
    {
      "cell_type": "markdown",
      "metadata": {
        "id": "e4GNs0CODzRf"
      },
      "source": [
        "## Using Most similar Methord"
      ]
    },
    {
      "cell_type": "code",
      "metadata": {
        "id": "eKEKJrAORSBn",
        "outputId": "ca5c9ba5-1c06-4de9-b7b8-241ff763d7a6",
        "colab": {
          "base_uri": "https://localhost:8080/",
          "height": 238
        }
      },
      "source": [
        "word_vectors.most_similar(positive= [\"woman\" , \"king\"],negative = [\"man\"],topn = 10)"
      ],
      "execution_count": 40,
      "outputs": [
        {
          "output_type": "stream",
          "text": [
            "/usr/local/lib/python3.6/dist-packages/gensim/matutils.py:737: FutureWarning: Conversion of the second argument of issubdtype from `int` to `np.signedinteger` is deprecated. In future, it will be treated as `np.int64 == np.dtype(int).type`.\n",
            "  if np.issubdtype(vec.dtype, np.int):\n"
          ],
          "name": "stderr"
        },
        {
          "output_type": "execute_result",
          "data": {
            "text/plain": [
              "[('queen', 0.7118192911148071),\n",
              " ('monarch', 0.6189674139022827),\n",
              " ('princess', 0.5902431011199951),\n",
              " ('crown_prince', 0.5499460697174072),\n",
              " ('prince', 0.5377321243286133),\n",
              " ('kings', 0.5236844420433044),\n",
              " ('Queen_Consort', 0.5235945582389832),\n",
              " ('queens', 0.518113374710083),\n",
              " ('sultan', 0.5098593235015869),\n",
              " ('monarchy', 0.5087411999702454)]"
            ]
          },
          "metadata": {
            "tags": []
          },
          "execution_count": 40
        }
      ]
    },
    {
      "cell_type": "code",
      "metadata": {
        "id": "ZmXyBfW5RSJe"
      },
      "source": [
        ""
      ],
      "execution_count": null,
      "outputs": []
    },
    {
      "cell_type": "code",
      "metadata": {
        "id": "AltCqp2ARRwe"
      },
      "source": [
        ""
      ],
      "execution_count": null,
      "outputs": []
    },
    {
      "cell_type": "code",
      "metadata": {
        "id": "FYBg2b29RRa1"
      },
      "source": [
        ""
      ],
      "execution_count": null,
      "outputs": []
    },
    {
      "cell_type": "code",
      "metadata": {
        "id": "1FjgC6rlRQcl"
      },
      "source": [
        ""
      ],
      "execution_count": null,
      "outputs": []
    },
    {
      "cell_type": "code",
      "metadata": {
        "id": "5ahSCdNUFcd0"
      },
      "source": [
        ""
      ],
      "execution_count": 96,
      "outputs": []
    }
  ]
}