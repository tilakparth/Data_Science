{
  "nbformat": 4,
  "nbformat_minor": 0,
  "metadata": {
    "colab": {
      "name": "imdb_sentimental_analysis.ipynb",
      "provenance": [],
      "mount_file_id": "10U9OUQX6Fjyj7JwOqwSeuINwJeo5KFIE",
      "authorship_tag": "ABX9TyPSnCyfYQrVZnE4qiUVPPMB",
      "include_colab_link": true
    },
    "kernelspec": {
      "name": "python3",
      "display_name": "Python 3"
    },
    "accelerator": "TPU"
  },
  "cells": [
    {
      "cell_type": "markdown",
      "metadata": {
        "id": "view-in-github",
        "colab_type": "text"
      },
      "source": [
        "<a href=\"https://colab.research.google.com/github/tilakparth/Data_Science/blob/master/neural%20network/imdb_sentimental_analysis.ipynb\" target=\"_parent\"><img src=\"https://colab.research.google.com/assets/colab-badge.svg\" alt=\"Open In Colab\"/></a>"
      ]
    },
    {
      "cell_type": "markdown",
      "metadata": {
        "id": "dL-4DoAYglrV",
        "colab_type": "text"
      },
      "source": [
        "## Classifying Movie Reviews\n",
        "- Binary Classification on IMDB Dataset\n",
        "- Input - 50,000 Reviews\n",
        "- Output: Positive and Negative"
      ]
    },
    {
      "cell_type": "code",
      "metadata": {
        "id": "wlv5NohOguZW",
        "colab_type": "code",
        "colab": {
          "base_uri": "https://localhost:8080/",
          "height": 70
        },
        "outputId": "da3185a9-b66d-485f-bb08-6d651ec7a2fa"
      },
      "source": [
        "from keras.datasets import imdb\n",
        "import numpy as np\n",
        "import matplotlib.pyplot as plt\n",
        "import pandas as pd\n",
        "import seaborn as sns"
      ],
      "execution_count": 1,
      "outputs": [
        {
          "output_type": "stream",
          "text": [
            "/usr/local/lib/python3.6/dist-packages/statsmodels/tools/_testing.py:19: FutureWarning: pandas.util.testing is deprecated. Use the functions in the public API at pandas.testing instead.\n",
            "  import pandas.util.testing as tm\n"
          ],
          "name": "stderr"
        }
      ]
    },
    {
      "cell_type": "markdown",
      "metadata": {
        "id": "s5e65SwhhZlg",
        "colab_type": "text"
      },
      "source": [
        "## Data Preparation"
      ]
    },
    {
      "cell_type": "code",
      "metadata": {
        "id": "E0YSfi5Jhf-F",
        "colab_type": "code",
        "colab": {
          "base_uri": "https://localhost:8080/",
          "height": 50
        },
        "outputId": "914e9d83-147f-4f35-bc78-012aa2079a3a"
      },
      "source": [
        "((XT,YT),(Xt,Yt)) = imdb.load_data(num_words=10000)"
      ],
      "execution_count": 2,
      "outputs": [
        {
          "output_type": "stream",
          "text": [
            "Downloading data from https://storage.googleapis.com/tensorflow/tf-keras-datasets/imdb.npz\n",
            "17465344/17464789 [==============================] - 0s 0us/step\n"
          ],
          "name": "stdout"
        }
      ]
    },
    {
      "cell_type": "code",
      "metadata": {
        "id": "fZuD01_2iMJ3",
        "colab_type": "code",
        "colab": {
          "base_uri": "https://localhost:8080/",
          "height": 34
        },
        "outputId": "d71fb244-cd09-4734-9a0d-c7c20d1d5ee5"
      },
      "source": [
        "XT.shape,YT.shape,Xt.shape,Yt.shape"
      ],
      "execution_count": 3,
      "outputs": [
        {
          "output_type": "execute_result",
          "data": {
            "text/plain": [
              "((25000,), (25000,), (25000,), (25000,))"
            ]
          },
          "metadata": {
            "tags": []
          },
          "execution_count": 3
        }
      ]
    },
    {
      "cell_type": "code",
      "metadata": {
        "id": "xnucPflK-xTc",
        "colab_type": "code",
        "colab": {
          "base_uri": "https://localhost:8080/",
          "height": 54
        },
        "outputId": "a139de43-0595-470a-b0e2-4fb5d0f15ae6"
      },
      "source": [
        "print(XT[0])"
      ],
      "execution_count": 4,
      "outputs": [
        {
          "output_type": "stream",
          "text": [
            "[1, 14, 22, 16, 43, 530, 973, 1622, 1385, 65, 458, 4468, 66, 3941, 4, 173, 36, 256, 5, 25, 100, 43, 838, 112, 50, 670, 2, 9, 35, 480, 284, 5, 150, 4, 172, 112, 167, 2, 336, 385, 39, 4, 172, 4536, 1111, 17, 546, 38, 13, 447, 4, 192, 50, 16, 6, 147, 2025, 19, 14, 22, 4, 1920, 4613, 469, 4, 22, 71, 87, 12, 16, 43, 530, 38, 76, 15, 13, 1247, 4, 22, 17, 515, 17, 12, 16, 626, 18, 2, 5, 62, 386, 12, 8, 316, 8, 106, 5, 4, 2223, 5244, 16, 480, 66, 3785, 33, 4, 130, 12, 16, 38, 619, 5, 25, 124, 51, 36, 135, 48, 25, 1415, 33, 6, 22, 12, 215, 28, 77, 52, 5, 14, 407, 16, 82, 2, 8, 4, 107, 117, 5952, 15, 256, 4, 2, 7, 3766, 5, 723, 36, 71, 43, 530, 476, 26, 400, 317, 46, 7, 4, 2, 1029, 13, 104, 88, 4, 381, 15, 297, 98, 32, 2071, 56, 26, 141, 6, 194, 7486, 18, 4, 226, 22, 21, 134, 476, 26, 480, 5, 144, 30, 5535, 18, 51, 36, 28, 224, 92, 25, 104, 4, 226, 65, 16, 38, 1334, 88, 12, 16, 283, 5, 16, 4472, 113, 103, 32, 15, 16, 5345, 19, 178, 32]\n"
          ],
          "name": "stdout"
        }
      ]
    },
    {
      "cell_type": "code",
      "metadata": {
        "id": "JN-nSEfN-9kX",
        "colab_type": "code",
        "colab": {
          "base_uri": "https://localhost:8080/",
          "height": 50
        },
        "outputId": "3b05f9bb-ec75-44f3-e503-8b060ebac462"
      },
      "source": [
        " word_idx = imdb.get_word_index()"
      ],
      "execution_count": 5,
      "outputs": [
        {
          "output_type": "stream",
          "text": [
            "Downloading data from https://storage.googleapis.com/tensorflow/tf-keras-datasets/imdb_word_index.json\n",
            "1646592/1641221 [==============================] - 0s 0us/step\n"
          ],
          "name": "stdout"
        }
      ]
    },
    {
      "cell_type": "code",
      "metadata": {
        "id": "jk6pR0Ui_Hg8",
        "colab_type": "code",
        "colab": {
          "base_uri": "https://localhost:8080/",
          "height": 34
        },
        "outputId": "57d0490d-d066-4edf-ef3d-69818954d1c6"
      },
      "source": [
        "type(word_idx)"
      ],
      "execution_count": 6,
      "outputs": [
        {
          "output_type": "execute_result",
          "data": {
            "text/plain": [
              "dict"
            ]
          },
          "metadata": {
            "tags": []
          },
          "execution_count": 6
        }
      ]
    },
    {
      "cell_type": "code",
      "metadata": {
        "id": "e-s5uL5S_MKv",
        "colab_type": "code",
        "colab": {}
      },
      "source": [
        "# print(word_idx)"
      ],
      "execution_count": 7,
      "outputs": []
    },
    {
      "cell_type": "code",
      "metadata": {
        "id": "GSeLuivq_Nw4",
        "colab_type": "code",
        "colab": {}
      },
      "source": [
        "idx_word = dict([value,key] for (key,value) in word_idx.items())"
      ],
      "execution_count": 8,
      "outputs": []
    },
    {
      "cell_type": "code",
      "metadata": {
        "id": "fMt9jDMo_ksF",
        "colab_type": "code",
        "colab": {}
      },
      "source": [
        "# print(idx_word)"
      ],
      "execution_count": 9,
      "outputs": []
    },
    {
      "cell_type": "code",
      "metadata": {
        "id": "iXeAjpar_vGa",
        "colab_type": "code",
        "colab": {}
      },
      "source": [
        "actual_review = ' '.join([idx_word.get(idx-3,'?') for idx in XT[0]]) \n",
        "# the  idx - 3 was used as the dict adds three words automatically "
      ],
      "execution_count": null,
      "outputs": []
    },
    {
      "cell_type": "code",
      "metadata": {
        "id": "R3qoQVGxAAAm",
        "colab_type": "code",
        "colab": {
          "base_uri": "https://localhost:8080/",
          "height": 54
        },
        "outputId": "c20eb2d9-6db8-4636-d1bb-720f90461de5"
      },
      "source": [
        "print(actual_review)"
      ],
      "execution_count": null,
      "outputs": [
        {
          "output_type": "stream",
          "text": [
            "? this film was just brilliant casting location scenery story direction everyone's really suited the part they played and you could just imagine being there robert ? is an amazing actor and now the same being director ? father came from the same scottish island as myself so i loved the fact there was a real connection with this film the witty remarks throughout the film were great it was just brilliant so much that i bought the film as soon as it was released for ? and would recommend it to everyone to watch and the fly fishing was amazing really cried at the end it was so sad and you know what they say if you cry at a film it must have been good and this definitely was also ? to the two little boy's that played the ? of norman and paul they were just brilliant children are often left out of the ? list i think because the stars that play them all grown up are such a big profile for the whole film but these children are amazing and should be praised for what they have done don't you think the whole story was so lovely because it was true and was someone's life after all that was shared with us all\n"
          ],
          "name": "stdout"
        }
      ]
    },
    {
      "cell_type": "markdown",
      "metadata": {
        "id": "T88947OvBcXI",
        "colab_type": "text"
      },
      "source": [
        "## Next Step - Vectorize the data\n",
        "##### Vocab- size -10,000 I Will make sure it is representes as len 10,000  "
      ]
    },
    {
      "cell_type": "code",
      "metadata": {
        "id": "JfGG8tBXA35P",
        "colab_type": "code",
        "colab": {}
      },
      "source": [
        "def vectorize_sentence(sentences,dim=10000):\n",
        "  outputs = np.zeros((len(sentences),dim))\n",
        "  for i,idx in enumerate(sentences):\n",
        "    outputs[i][idx] = 1\n",
        "  return outputs  "
      ],
      "execution_count": null,
      "outputs": []
    },
    {
      "cell_type": "code",
      "metadata": {
        "id": "SFQO2JEuCo_j",
        "colab_type": "code",
        "colab": {}
      },
      "source": [
        "X_train = vectorize_sentence(XT)\n",
        "X_test = vectorize_sentence(Xt)"
      ],
      "execution_count": null,
      "outputs": []
    },
    {
      "cell_type": "code",
      "metadata": {
        "id": "kstlc-bjCt7L",
        "colab_type": "code",
        "colab": {
          "base_uri": "https://localhost:8080/",
          "height": 34
        },
        "outputId": "4840b7dc-7ad2-4080-99e3-98a806e8e269"
      },
      "source": [
        "X_train.shape,X_test.shape"
      ],
      "execution_count": null,
      "outputs": [
        {
          "output_type": "execute_result",
          "data": {
            "text/plain": [
              "((25000, 10000), (25000, 10000))"
            ]
          },
          "metadata": {
            "tags": []
          },
          "execution_count": 78
        }
      ]
    },
    {
      "cell_type": "code",
      "metadata": {
        "id": "pm5FMPVhDIfv",
        "colab_type": "code",
        "colab": {}
      },
      "source": [
        "Y_train  = np.array(YT).astype('float32')\n",
        "Y_test  = np.array(Yt).astype('float32')"
      ],
      "execution_count": null,
      "outputs": []
    },
    {
      "cell_type": "markdown",
      "metadata": {
        "id": "Cc0FNVgVDg7E",
        "colab_type": "text"
      },
      "source": [
        "# Build the network"
      ]
    },
    {
      "cell_type": "markdown",
      "metadata": {
        "id": "6y1z5t5RDm7u",
        "colab_type": "text"
      },
      "source": [
        "#### Define your Model Artchitecture\n",
        "- Use fully Connected/Dence Layers with RelU Activation \n",
        "- 2 Hidden Layers with 16 units each\n",
        "- 1 Output layer with 1 unit(Sigmoid Activation)"
      ]
    },
    {
      "cell_type": "code",
      "metadata": {
        "id": "81JF6634DLbA",
        "colab_type": "code",
        "colab": {}
      },
      "source": [
        "from keras import models\n",
        "from keras.layers import Dense"
      ],
      "execution_count": null,
      "outputs": []
    },
    {
      "cell_type": "code",
      "metadata": {
        "id": "NIaZQlBKDbdf",
        "colab_type": "code",
        "colab": {}
      },
      "source": [
        "## define the model \n",
        "model = models.Sequential()\n",
        "model.add(Dense(16,activation='relu',input_shape=(10000,)))\n",
        "model.add(Dense(16,activation='relu',))\n",
        "model.add(Dense(1,activation='sigmoid'))"
      ],
      "execution_count": null,
      "outputs": []
    },
    {
      "cell_type": "code",
      "metadata": {
        "id": "gC9ikPsaPPlQ",
        "colab_type": "code",
        "colab": {}
      },
      "source": [
        "## Compile the model\n",
        "model.compile(optimizer=\"rmsprop\",loss=\"binary_crossentropy\",metrics=['accuracy'])\n"
      ],
      "execution_count": null,
      "outputs": []
    },
    {
      "cell_type": "code",
      "metadata": {
        "id": "P2N2S6p3TkBY",
        "colab_type": "code",
        "colab": {
          "base_uri": "https://localhost:8080/",
          "height": 252
        },
        "outputId": "15d32b56-6b3b-4c10-ff16-71d117dae2bc"
      },
      "source": [
        "model.summary()"
      ],
      "execution_count": null,
      "outputs": [
        {
          "output_type": "stream",
          "text": [
            "Model: \"sequential_4\"\n",
            "_________________________________________________________________\n",
            "Layer (type)                 Output Shape              Param #   \n",
            "=================================================================\n",
            "dense_12 (Dense)             (None, 16)                160016    \n",
            "_________________________________________________________________\n",
            "dense_13 (Dense)             (None, 16)                272       \n",
            "_________________________________________________________________\n",
            "dense_14 (Dense)             (None, 1)                 17        \n",
            "=================================================================\n",
            "Total params: 160,305\n",
            "Trainable params: 160,305\n",
            "Non-trainable params: 0\n",
            "_________________________________________________________________\n"
          ],
          "name": "stdout"
        }
      ]
    },
    {
      "cell_type": "markdown",
      "metadata": {
        "id": "hHfxO5FbqZ0K",
        "colab_type": "text"
      },
      "source": [
        "## Training and Validation"
      ]
    },
    {
      "cell_type": "code",
      "metadata": {
        "id": "L9xYHaShUCbE",
        "colab_type": "code",
        "colab": {}
      },
      "source": [
        "x_val =X_train[:5000]\n",
        "x_train = X_train[5000:]\n",
        "\n",
        "y_val = Y_train[:5000]\n",
        "y_train = Y_train[5000:]"
      ],
      "execution_count": null,
      "outputs": []
    },
    {
      "cell_type": "code",
      "metadata": {
        "id": "FVHiGisLo8sy",
        "colab_type": "code",
        "colab": {
          "base_uri": "https://localhost:8080/",
          "height": 709
        },
        "outputId": "bc38c668-086f-471e-b1c5-d580d16893de"
      },
      "source": [
        "hist = model.fit(x_train,y_train,epochs=20,batch_size=512,validation_data=(x_val,y_val))"
      ],
      "execution_count": null,
      "outputs": [
        {
          "output_type": "stream",
          "text": [
            "Epoch 1/20\n",
            "40/40 [==============================] - 1s 32ms/step - loss: 0.1837 - accuracy: 0.9329 - val_loss: 0.2242 - val_accuracy: 0.9110\n",
            "Epoch 2/20\n",
            "40/40 [==============================] - 1s 33ms/step - loss: 0.1652 - accuracy: 0.9394 - val_loss: 0.1979 - val_accuracy: 0.9286\n",
            "Epoch 3/20\n",
            "40/40 [==============================] - 1s 32ms/step - loss: 0.1421 - accuracy: 0.9500 - val_loss: 0.2127 - val_accuracy: 0.9224\n",
            "Epoch 4/20\n",
            "40/40 [==============================] - 1s 17ms/step - loss: 0.1222 - accuracy: 0.9575 - val_loss: 0.2268 - val_accuracy: 0.9184\n",
            "Epoch 5/20\n",
            "40/40 [==============================] - 1s 18ms/step - loss: 0.1037 - accuracy: 0.9665 - val_loss: 0.2413 - val_accuracy: 0.9140\n",
            "Epoch 6/20\n",
            "40/40 [==============================] - 1s 18ms/step - loss: 0.0889 - accuracy: 0.9714 - val_loss: 0.2612 - val_accuracy: 0.9110\n",
            "Epoch 7/20\n",
            "40/40 [==============================] - 1s 18ms/step - loss: 0.0774 - accuracy: 0.9760 - val_loss: 0.2852 - val_accuracy: 0.9046\n",
            "Epoch 8/20\n",
            "40/40 [==============================] - 1s 19ms/step - loss: 0.0648 - accuracy: 0.9800 - val_loss: 0.3093 - val_accuracy: 0.9010\n",
            "Epoch 9/20\n",
            "40/40 [==============================] - 1s 18ms/step - loss: 0.0547 - accuracy: 0.9841 - val_loss: 0.3651 - val_accuracy: 0.8944\n",
            "Epoch 10/20\n",
            "40/40 [==============================] - 1s 18ms/step - loss: 0.0452 - accuracy: 0.9883 - val_loss: 0.3781 - val_accuracy: 0.8926\n",
            "Epoch 11/20\n",
            "40/40 [==============================] - 1s 17ms/step - loss: 0.0372 - accuracy: 0.9906 - val_loss: 0.4063 - val_accuracy: 0.8918\n",
            "Epoch 12/20\n",
            "40/40 [==============================] - 1s 18ms/step - loss: 0.0315 - accuracy: 0.9929 - val_loss: 0.4213 - val_accuracy: 0.8904\n",
            "Epoch 13/20\n",
            "40/40 [==============================] - 1s 17ms/step - loss: 0.0256 - accuracy: 0.9940 - val_loss: 0.4756 - val_accuracy: 0.8856\n",
            "Epoch 14/20\n",
            "40/40 [==============================] - 1s 17ms/step - loss: 0.0198 - accuracy: 0.9959 - val_loss: 0.4905 - val_accuracy: 0.8834\n",
            "Epoch 15/20\n",
            "40/40 [==============================] - 1s 18ms/step - loss: 0.0161 - accuracy: 0.9966 - val_loss: 0.5247 - val_accuracy: 0.8826\n",
            "Epoch 16/20\n",
            "40/40 [==============================] - 1s 18ms/step - loss: 0.0112 - accuracy: 0.9983 - val_loss: 0.5788 - val_accuracy: 0.8802\n",
            "Epoch 17/20\n",
            "40/40 [==============================] - 1s 18ms/step - loss: 0.0096 - accuracy: 0.9983 - val_loss: 0.6181 - val_accuracy: 0.8780\n",
            "Epoch 18/20\n",
            "40/40 [==============================] - 1s 19ms/step - loss: 0.0073 - accuracy: 0.9988 - val_loss: 0.6480 - val_accuracy: 0.8790\n",
            "Epoch 19/20\n",
            "40/40 [==============================] - 1s 17ms/step - loss: 0.0068 - accuracy: 0.9987 - val_loss: 0.6878 - val_accuracy: 0.8770\n",
            "Epoch 20/20\n",
            "40/40 [==============================] - 1s 17ms/step - loss: 0.0028 - accuracy: 0.9998 - val_loss: 0.7182 - val_accuracy: 0.8752\n"
          ],
          "name": "stdout"
        }
      ]
    },
    {
      "cell_type": "markdown",
      "metadata": {
        "id": "PF9ebeUDrqUJ",
        "colab_type": "text"
      },
      "source": [
        "## Visualize our results"
      ]
    },
    {
      "cell_type": "code",
      "metadata": {
        "id": "YwDHMg3pq8y9",
        "colab_type": "code",
        "colab": {}
      },
      "source": [
        "# hist.history"
      ],
      "execution_count": null,
      "outputs": []
    },
    {
      "cell_type": "code",
      "metadata": {
        "id": "Ly33iPozrxar",
        "colab_type": "code",
        "colab": {
          "base_uri": "https://localhost:8080/",
          "height": 361
        },
        "outputId": "23993e75-4f5e-4b21-9fcc-18eb005a5a33"
      },
      "source": [
        "plt.style.use('seaborn')\n",
        "plt.plot(hist.history['val_loss'],label=\"Validation Loss\")\n",
        "plt.plot(hist.history['loss'],label=\"Training Loss\")\n",
        "plt.xlabel(\"Epochs\")\n",
        "plt.ylabel(\"Loss\")\n",
        "plt.legend()\n",
        "plt.show()"
      ],
      "execution_count": null,
      "outputs": [
        {
          "output_type": "display_data",
          "data": {
            "image/png": "[encoded data removed]",
            "text/plain": [
              "<Figure size 576x396 with 1 Axes>"
            ]
          },
          "metadata": {
            "tags": []
          }
        }
      ]
    },
    {
      "cell_type": "code",
      "metadata": {
        "id": "mYmkQ9SNr-YR",
        "colab_type": "code",
        "colab": {
          "base_uri": "https://localhost:8080/",
          "height": 361
        },
        "outputId": "90119b38-196e-4127-996b-06fa918e1592"
      },
      "source": [
        "plt.style.use('seaborn')\n",
        "plt.plot(hist.history['val_accuracy'],label=\"Validation accuracy\")\n",
        "plt.plot(hist.history['accuracy'],label=\"Training Accuracy\")\n",
        "plt.xlabel(\"Epochs\")\n",
        "plt.ylabel(\"Accuracy\")\n",
        "plt.legend()\n",
        "plt.show()"
      ],
      "execution_count": null,
      "outputs": [
        {
          "output_type": "display_data",
          "data": {
            "image/png": "[encoded data removed]",
            "text/plain": [
              "<Figure size 576x396 with 1 Axes>"
            ]
          },
          "metadata": {
            "tags": []
          }
        }
      ]
    },
    {
      "cell_type": "code",
      "metadata": {
        "id": "Qd02dX5gtFCf",
        "colab_type": "code",
        "colab": {
          "base_uri": "https://localhost:8080/",
          "height": 104
        },
        "outputId": "a6c0b735-1f46-4203-c914-8bc9721b5aad"
      },
      "source": [
        "hist = model.fit(x_train,y_train,epochs=2,batch_size=512,validation_data=(x_val,y_val))"
      ],
      "execution_count": null,
      "outputs": [
        {
          "output_type": "stream",
          "text": [
            "Epoch 1/2\n",
            "40/40 [==============================] - 1s 19ms/step - loss: 0.2050 - accuracy: 0.9288 - val_loss: 0.2669 - val_accuracy: 0.8924\n",
            "Epoch 2/2\n",
            "40/40 [==============================] - 1s 17ms/step - loss: 0.1664 - accuracy: 0.9431 - val_loss: 0.2841 - val_accuracy: 0.8886\n"
          ],
          "name": "stdout"
        }
      ]
    },
    {
      "cell_type": "code",
      "metadata": {
        "id": "wc7mpuR2tWc7",
        "colab_type": "code",
        "colab": {
          "base_uri": "https://localhost:8080/",
          "height": 70
        },
        "outputId": "ba0e4c62-66c9-478a-fa05-6edff85de167"
      },
      "source": [
        "model.evaluate(X_test,Y_test)[1]"
      ],
      "execution_count": null,
      "outputs": [
        {
          "output_type": "stream",
          "text": [
            "782/782 [==============================] - 1s 1ms/step - loss: 0.3102 - accuracy: 0.8770\n"
          ],
          "name": "stdout"
        },
        {
          "output_type": "execute_result",
          "data": {
            "text/plain": [
              "0.8770400285720825"
            ]
          },
          "metadata": {
            "tags": []
          },
          "execution_count": 87
        }
      ]
    },
    {
      "cell_type": "code",
      "metadata": {
        "id": "RXNkbVjAt-4N",
        "colab_type": "code",
        "colab": {
          "base_uri": "https://localhost:8080/",
          "height": 70
        },
        "outputId": "38def37a-d3b3-41bd-ea28-6c40b3f039be"
      },
      "source": [
        "model.evaluate(X_train,Y_train)"
      ],
      "execution_count": null,
      "outputs": [
        {
          "output_type": "stream",
          "text": [
            "782/782 [==============================] - 1s 1ms/step - loss: 0.1632 - accuracy: 0.9450\n"
          ],
          "name": "stdout"
        },
        {
          "output_type": "execute_result",
          "data": {
            "text/plain": [
              "[0.16322055459022522, 0.9449999928474426]"
            ]
          },
          "metadata": {
            "tags": []
          },
          "execution_count": 88
        }
      ]
    },
    {
      "cell_type": "code",
      "metadata": {
        "id": "rd2WZ1GJvCIk",
        "colab_type": "code",
        "colab": {
          "base_uri": "https://localhost:8080/",
          "height": 134
        },
        "outputId": "e2a8cf00-33c0-4a21-cadc-22990636fd81"
      },
      "source": [
        "model.predict(X_test)"
      ],
      "execution_count": null,
      "outputs": [
        {
          "output_type": "execute_result",
          "data": {
            "text/plain": [
              "array([[0.16901314],\n",
              "       [0.9982569 ],\n",
              "       [0.56089115],\n",
              "       ...,\n",
              "       [0.08350691],\n",
              "       [0.06559199],\n",
              "       [0.41029122]], dtype=float32)"
            ]
          },
          "metadata": {
            "tags": []
          },
          "execution_count": 90
        }
      ]
    },
    {
      "cell_type": "code",
      "metadata": {
        "id": "mMq-GfRovRw-",
        "colab_type": "code",
        "colab": {}
      },
      "source": [
        ""
      ],
      "execution_count": null,
      "outputs": []
    }
  ]
}