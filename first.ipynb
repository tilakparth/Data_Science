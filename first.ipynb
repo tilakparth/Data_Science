{
 "cells": [
  {
   "cell_type": "code",
   "execution_count": 3,
   "metadata": {},
   "outputs": [
    {
     "name": "stdout",
     "output_type": "stream",
     "text": [
      "Hello world\n"
     ]
    }
   ],
   "source": [
    "a =\"Hello world\"\n",
    "print(a)\n"
   ]
  },
  {
   "cell_type": "code",
   "execution_count": 5,
   "metadata": {},
   "outputs": [
    {
     "name": "stdout",
     "output_type": "stream",
     "text": [
      "1 23 4 5 6\n"
     ]
    }
   ],
   "source": [
    "numbers = input()"
   ]
  },
  {
   "cell_type": "code",
   "execution_count": 10,
   "metadata": {},
   "outputs": [
    {
     "name": "stdout",
     "output_type": "stream",
     "text": [
      "1 23 4 5 6\n",
      "<class 'str'>\n",
      "['1', '23', '4', '5', '6']\n",
      "[1, 23, 4, 5, 6]\n",
      "Bulbaaur\n",
      "Charmander\n",
      "Charmander\n",
      "Charmander\n",
      "Charmander\n"
     ]
    }
   ],
   "source": [
    "print(numbers)\n",
    "print(type(numbers))\n",
    "no = numbers.split();\n",
    "print(no)\n",
    "no_list = [int(x) for x in no]\n",
    "print(no_list)\n",
    "\n",
    "for i in no_list:\n",
    "    if i==1:\n",
    "        print(\"Bulbaaur\")\n",
    "    elif i==2:\n",
    "        print(\"Pikachu\")\n",
    "    else:\n",
    "        print(\"Charmander\")\n"
   ]
  },
  {
   "cell_type": "code",
   "execution_count": 2,
   "metadata": {},
   "outputs": [],
   "source": [
    "pokemon_map = {\n",
    "    1 : \"Bulbasor\",\n",
    "    2 : \"Pikachu\",\n",
    "    3 : \"Charmendor\"\n",
    "}"
   ]
  },
  {
   "cell_type": "code",
   "execution_count": 3,
   "metadata": {},
   "outputs": [
    {
     "data": {
      "text/plain": [
       "'Pikachu'"
      ]
     },
     "execution_count": 3,
     "metadata": {},
     "output_type": "execute_result"
    }
   ],
   "source": [
    "pokemon_map[2]"
   ]
  },
  {
   "cell_type": "code",
   "execution_count": 5,
   "metadata": {},
   "outputs": [
    {
     "name": "stdout",
     "output_type": "stream",
     "text": [
      "2\n"
     ]
    }
   ],
   "source": [
    "n = input()\n"
   ]
  },
  {
   "cell_type": "code",
   "execution_count": 9,
   "metadata": {},
   "outputs": [
    {
     "name": "stdout",
     "output_type": "stream",
     "text": [
      "<class 'str'>\n",
      "2\n",
      "<class 'int'>\n"
     ]
    }
   ],
   "source": [
    "print(type(n))\n",
    "no = int(n)\n",
    "print(no)\n",
    "print(type(no))"
   ]
  },
  {
   "cell_type": "code",
   "execution_count": 33,
   "metadata": {},
   "outputs": [
    {
     "name": "stdout",
     "output_type": "stream",
     "text": [
      "3\n",
      "3\n",
      "scnj\n",
      "0\n",
      "1\n",
      "2\n"
     ]
    }
   ],
   "source": [
    "def paranthesis()\n",
    "\n",
    "n = input();\n",
    "no = int(n);\n",
    "# print(no)\n",
    "# print(\"scnj\");\n",
    "for i in range(no):\n",
    "    print(i);\n"
   ]
  },
  {
   "cell_type": "code",
   "execution_count": 18,
   "metadata": {},
   "outputs": [
    {
     "name": "stdout",
     "output_type": "stream",
     "text": [
      "Requirement already satisfied: numpy in c:\\users\\tilak\\appdata\\local\\programs\\python\\python38-32\\lib\\site-packages (1.18.4)\n"
     ]
    }
   ],
   "source": [
    "#!pip install numpy"
   ]
  },
  {
   "cell_type": "code",
   "execution_count": 21,
   "metadata": {},
   "outputs": [],
   "source": [
    "!jt -t monokai -T"
   ]
  },
  {
   "cell_type": "code",
   "execution_count": 26,
   "metadata": {},
   "outputs": [
    {
     "name": "stdout",
     "output_type": "stream",
     "text": [
      "Reset css and font defaults in:\n",
      "C:\\Users\\tilak\\.jupyter\\custom &\n",
      "C:\\Users\\tilak\\AppData\\Roaming\\jupyter\\nbextensions\n"
     ]
    }
   ],
   "source": [
    "!jt -r"
   ]
  },
  {
   "cell_type": "code",
   "execution_count": 27,
   "metadata": {},
   "outputs": [],
   "source": [
    "!jt  -t monokai -T\n"
   ]
  },
  {
   "cell_type": "markdown",
   "metadata": {},
   "source": [
    "# Tilak"
   ]
  },
  {
   "cell_type": "code",
   "execution_count": 46,
   "metadata": {},
   "outputs": [
    {
     "data": {
      "text/plain": [
       "92"
      ]
     },
     "execution_count": 46,
     "metadata": {},
     "output_type": "execute_result"
    }
   ],
   "source": [
    "ord(\"\\\\\")"
   ]
  },
  {
   "cell_type": "code",
   "execution_count": 49,
   "metadata": {},
   "outputs": [
    {
     "name": "stdout",
     "output_type": "stream",
     "text": [
      "2\n",
      "()()\n",
      "(())\n"
     ]
    }
   ],
   "source": [
    "def paranthesis(opened,close,total,ans):\n",
    "    if close>opened:\n",
    "        return \n",
    "    if opened > total:\n",
    "        return \n",
    "    if close==total:\n",
    "        print(ans)\n",
    "    paranthesis(opened,close+1,total,ans+\")\");\n",
    "    paranthesis(opened+1,close,total,ans+\"(\");\n",
    "    \n",
    "n = input();\n",
    "no = int(n);\n",
    "paranthesis(0,0,no,\"\");\n",
    "    \n",
    "    "
   ]
  },
  {
   "cell_type": "code",
   "execution_count": 59,
   "metadata": {},
   "outputs": [
    {
     "data": {
      "text/plain": [
       "100"
      ]
     },
     "execution_count": 59,
     "metadata": {},
     "output_type": "execute_result"
    }
   ],
   "source": [
    "1000 and 100\n",
    "# 5 or 7"
   ]
  },
  {
   "cell_type": "code",
   "execution_count": 61,
   "metadata": {},
   "outputs": [
    {
     "name": "stdout",
     "output_type": "stream",
     "text": [
      "10\n",
      "10 is great\n",
      "10 is great\n",
      "10 is great\n",
      "10 is great\n",
      "10 is great\n"
     ]
    }
   ],
   "source": [
    "def temp(name ,no_of_times = 3):\n",
    "    for i in range(no_of_times):\n",
    "        print(\"{} is great\".format(name))\n",
    "   \n",
    "\n",
    "names = input()\n",
    "temp(names,5)"
   ]
  },
  {
   "cell_type": "markdown",
   "metadata": {},
   "source": [
    "# return type\n"
   ]
  },
  {
   "cell_type": "code",
   "execution_count": 62,
   "metadata": {},
   "outputs": [
    {
     "name": "stdout",
     "output_type": "stream",
     "text": [
      "9\n"
     ]
    }
   ],
   "source": [
    " def add(a,b):\n",
    "        c= a+b;\n",
    "        return c\n",
    "    \n",
    "x = add(4,5)\n",
    "print(x)"
   ]
  },
  {
   "cell_type": "code",
   "execution_count": 72,
   "metadata": {},
   "outputs": [
    {
     "name": "stdout",
     "output_type": "stream",
     "text": [
      "5\n",
      "1 2 3 4 5 \n",
      "1 2 3 4 * \n",
      "1 2 3 * * * \n",
      "1 2 * * * * * \n",
      "1 * * * * * * * \n"
     ]
    }
   ],
   "source": [
    "a = input()\n",
    "b= int(a)\n",
    "\n",
    "for i in range(b):\n",
    "    for j in range(b-i):\n",
    "        print(j+1,end=\" \")\n",
    "#         s+=\" \"\n",
    "    for j in range(2*i-1):\n",
    "        print(\"* \",end=\"\")      \n",
    "    print(\"\\r\");    \n"
   ]
  },
  {
   "cell_type": "code",
   "execution_count": 8,
   "metadata": {},
   "outputs": [
    {
     "name": "stdout",
     "output_type": "stream",
     "text": [
      "2\n",
      "Prime\n"
     ]
    }
   ],
   "source": [
    "import math\n",
    "n = int(input())\n",
    "b = int(math.sqrt(n))\n",
    "flag =1\n",
    "for i in range(2,b+1):\n",
    "    if (n%i)==0:\n",
    "        flag =0\n",
    "if flag:\n",
    "    print(\"Prime\")\n",
    "else:\n",
    "    print(\"Not Prime\")\n",
    "    \n",
    "\n",
    "# for i in range(n):\n",
    "#     a =int(input())\n",
    "#     b= int(math.sqrt(a))\n",
    "#     for j in range(b+1):\n",
    "#         c = a - j*j\n",
    "#         d = int(math.sqrt(c))\n",
    "# #         print(\"c={}\".format(c)) \n",
    "# #         print(d)\n",
    "#         if (j*j + d*d)==a:\n",
    "#             if(j<=d):\n",
    "#                 print(\"({},{}) \".format(j,d))\n",
    "# #     print(\"\\n\")\n",
    "        \n",
    "        \n",
    "    \n",
    "\n"
   ]
  },
  {
   "cell_type": "code",
   "execution_count": 7,
   "metadata": {},
   "outputs": [
    {
     "name": "stdout",
     "output_type": "stream",
     "text": [
      "2\n"
     ]
    }
   ],
   "source": [
    "z =input()"
   ]
  },
  {
   "cell_type": "code",
   "execution_count": null,
   "metadata": {},
   "outputs": [],
   "source": []
  }
 ],
 "metadata": {
  "kernelspec": {
   "display_name": "Python 3",
   "language": "python",
   "name": "python3"
  },
  "language_info": {
   "codemirror_mode": {
    "name": "ipython",
    "version": 3
   },
   "file_extension": ".py",
   "mimetype": "text/x-python",
   "name": "python",
   "nbconvert_exporter": "python",
   "pygments_lexer": "ipython3",
   "version": "3.8.3"
  }
 },
 "nbformat": 4,
 "nbformat_minor": 4
}
