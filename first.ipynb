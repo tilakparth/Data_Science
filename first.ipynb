{
 "cells": [
  {
   "cell_type": "code",
   "execution_count": 3,
   "metadata": {},
   "outputs": [
    {
     "name": "stdout",
     "output_type": "stream",
     "text": [
      "Hello world\n"
     ]
    }
   ],
   "source": [
    "a =\"Hello world\"\n",
    "print(a)\n"
   ]
  },
  {
   "cell_type": "code",
   "execution_count": 5,
   "metadata": {},
   "outputs": [
    {
     "name": "stdout",
     "output_type": "stream",
     "text": [
      "1 23 4 5 6\n"
     ]
    }
   ],
   "source": [
    "numbers = input()"
   ]
  },
  {
   "cell_type": "code",
   "execution_count": 10,
   "metadata": {},
   "outputs": [
    {
     "name": "stdout",
     "output_type": "stream",
     "text": [
      "1 23 4 5 6\n",
      "<class 'str'>\n",
      "['1', '23', '4', '5', '6']\n",
      "[1, 23, 4, 5, 6]\n",
      "Bulbaaur\n",
      "Charmander\n",
      "Charmander\n",
      "Charmander\n",
      "Charmander\n"
     ]
    }
   ],
   "source": [
    "print(numbers)\n",
    "print(type(numbers))\n",
    "no = numbers.split();\n",
    "print(no)\n",
    "no_list = [int(x) for x in no]\n",
    "print(no_list)\n",
    "\n",
    "for i in no_list:\n",
    "    if i==1:\n",
    "        print(\"Bulbaaur\")\n",
    "    elif i==2:\n",
    "        print(\"Pikachu\")\n",
    "    else:\n",
    "        print(\"Charmander\")\n"
   ]
  },
  {
   "cell_type": "code",
   "execution_count": 2,
   "metadata": {},
   "outputs": [],
   "source": [
    "pokemon_map = {\n",
    "    1 : \"Bulbasor\",\n",
    "    2 : \"Pikachu\",\n",
    "    3 : \"Charmendor\"\n",
    "}"
   ]
  },
  {
   "cell_type": "code",
   "execution_count": 3,
   "metadata": {},
   "outputs": [
    {
     "data": {
      "text/plain": [
       "'Pikachu'"
      ]
     },
     "execution_count": 3,
     "metadata": {},
     "output_type": "execute_result"
    }
   ],
   "source": [
    "pokemon_map[2]"
   ]
  },
  {
   "cell_type": "code",
   "execution_count": 5,
   "metadata": {},
   "outputs": [
    {
     "name": "stdout",
     "output_type": "stream",
     "text": [
      "2\n"
     ]
    }
   ],
   "source": [
    "n = input()\n"
   ]
  },
  {
   "cell_type": "code",
   "execution_count": 9,
   "metadata": {},
   "outputs": [
    {
     "name": "stdout",
     "output_type": "stream",
     "text": [
      "<class 'str'>\n",
      "2\n",
      "<class 'int'>\n"
     ]
    }
   ],
   "source": [
    "print(type(n))\n",
    "no = int(n)\n",
    "print(no)\n",
    "print(type(no))"
   ]
  },
  {
   "cell_type": "code",
   "execution_count": 33,
   "metadata": {},
   "outputs": [
    {
     "name": "stdout",
     "output_type": "stream",
     "text": [
      "3\n",
      "3\n",
      "scnj\n",
      "0\n",
      "1\n",
      "2\n"
     ]
    }
   ],
   "source": [
    "def paranthesis()\n",
    "\n",
    "n = input();\n",
    "no = int(n);\n",
    "# print(no)\n",
    "# print(\"scnj\");\n",
    "for i in range(no):\n",
    "    print(i);\n"
   ]
  },
  {
   "cell_type": "code",
   "execution_count": 18,
   "metadata": {},
   "outputs": [
    {
     "name": "stdout",
     "output_type": "stream",
     "text": [
      "Requirement already satisfied: numpy in c:\\users\\tilak\\appdata\\local\\programs\\python\\python38-32\\lib\\site-packages (1.18.4)\n"
     ]
    }
   ],
   "source": [
    "#!pip install numpy"
   ]
  },
  {
   "cell_type": "code",
   "execution_count": 21,
   "metadata": {},
   "outputs": [],
   "source": [
    "!jt -t monokai -T"
   ]
  },
  {
   "cell_type": "code",
   "execution_count": 26,
   "metadata": {},
   "outputs": [
    {
     "name": "stdout",
     "output_type": "stream",
     "text": [
      "Reset css and font defaults in:\n",
      "C:\\Users\\tilak\\.jupyter\\custom &\n",
      "C:\\Users\\tilak\\AppData\\Roaming\\jupyter\\nbextensions\n"
     ]
    }
   ],
   "source": [
    "!jt -r"
   ]
  },
  {
   "cell_type": "code",
   "execution_count": 27,
   "metadata": {},
   "outputs": [],
   "source": [
    "!jt  -t monokai -T\n"
   ]
  },
  {
   "cell_type": "markdown",
   "metadata": {},
   "source": [
    "# Tilak"
   ]
  },
  {
   "cell_type": "code",
   "execution_count": 46,
   "metadata": {},
   "outputs": [
    {
     "data": {
      "text/plain": [
       "92"
      ]
     },
     "execution_count": 46,
     "metadata": {},
     "output_type": "execute_result"
    }
   ],
   "source": [
    "ord(\"\\\\\")"
   ]
  },
  {
   "cell_type": "code",
   "execution_count": 49,
   "metadata": {},
   "outputs": [
    {
     "name": "stdout",
     "output_type": "stream",
     "text": [
      "2\n",
      "()()\n",
      "(())\n"
     ]
    }
   ],
   "source": [
    "def paranthesis(opened,close,total,ans):\n",
    "    if close>opened:\n",
    "        return \n",
    "    if opened > total:\n",
    "        return \n",
    "    if close==total:\n",
    "        print(ans)\n",
    "    paranthesis(opened,close+1,total,ans+\")\");\n",
    "    paranthesis(opened+1,close,total,ans+\"(\");\n",
    "    \n",
    "n = input();\n",
    "no = int(n);\n",
    "paranthesis(0,0,no,\"\");\n",
    "    \n",
    "    "
   ]
  },
  {
   "cell_type": "code",
   "execution_count": 59,
   "metadata": {},
   "outputs": [
    {
     "data": {
      "text/plain": [
       "100"
      ]
     },
     "execution_count": 59,
     "metadata": {},
     "output_type": "execute_result"
    }
   ],
   "source": [
    "1000 and 100\n",
    "# 5 or 7"
   ]
  },
  {
   "cell_type": "code",
   "execution_count": 61,
   "metadata": {},
   "outputs": [
    {
     "name": "stdout",
     "output_type": "stream",
     "text": [
      "10\n",
      "10 is great\n",
      "10 is great\n",
      "10 is great\n",
      "10 is great\n",
      "10 is great\n"
     ]
    }
   ],
   "source": [
    "def temp(name ,no_of_times = 3):\n",
    "    for i in range(no_of_times):\n",
    "        print(\"{} is great\".format(name))\n",
    "   \n",
    "\n",
    "names = input()\n",
    "temp(names,5)"
   ]
  },
  {
   "cell_type": "markdown",
   "metadata": {},
   "source": [
    "# return type\n"
   ]
  },
  {
   "cell_type": "code",
   "execution_count": 62,
   "metadata": {},
   "outputs": [
    {
     "name": "stdout",
     "output_type": "stream",
     "text": [
      "9\n"
     ]
    }
   ],
   "source": [
    " def add(a,b):\n",
    "        c= a+b;\n",
    "        return c\n",
    "    \n",
    "x = add(4,5)\n",
    "print(x)"
   ]
  },
  {
   "cell_type": "code",
   "execution_count": 72,
   "metadata": {},
   "outputs": [
    {
     "name": "stdout",
     "output_type": "stream",
     "text": [
      "5\n",
      "1 2 3 4 5 \n",
      "1 2 3 4 * \n",
      "1 2 3 * * * \n",
      "1 2 * * * * * \n",
      "1 * * * * * * * \n"
     ]
    }
   ],
   "source": [
    "a = input()\n",
    "b= int(a)\n",
    "\n",
    "for i in range(b):\n",
    "    for j in range(b-i):\n",
    "        print(j+1,end=\" \")\n",
    "#         s+=\" \"\n",
    "    for j in range(2*i-1):\n",
    "        print(\"* \",end=\"\")      \n",
    "    print(\"\\r\");    \n"
   ]
  },
  {
   "cell_type": "code",
   "execution_count": 8,
   "metadata": {},
   "outputs": [
    {
     "name": "stdout",
     "output_type": "stream",
     "text": [
      "2\n",
      "Prime\n"
     ]
    }
   ],
   "source": [
    "import math\n",
    "n = int(input())\n",
    "b = int(math.sqrt(n))\n",
    "flag =1\n",
    "for i in range(2,b+1):\n",
    "    if (n%i)==0:\n",
    "        flag =0\n",
    "if flag:\n",
    "    print(\"Prime\")\n",
    "else:\n",
    "    print(\"Not Prime\")\n",
    "    \n",
    "\n",
    "# for i in range(n):\n",
    "#     a =int(input())\n",
    "#     b= int(math.sqrt(a))\n",
    "#     for j in range(b+1):\n",
    "#         c = a - j*j\n",
    "#         d = int(math.sqrt(c))\n",
    "# #         print(\"c={}\".format(c)) \n",
    "# #         print(d)\n",
    "#         if (j*j + d*d)==a:\n",
    "#             if(j<=d):\n",
    "#                 print(\"({},{}) \".format(j,d))\n",
    "# #     print(\"\\n\")\n",
    "        \n",
    "        \n",
    "    \n",
    "\n"
   ]
  },
  {
   "cell_type": "code",
   "execution_count": 7,
   "metadata": {},
   "outputs": [
    {
     "name": "stdout",
     "output_type": "stream",
     "text": [
      "2\n"
     ]
    }
   ],
   "source": [
    "z =input()"
   ]
  },
  {
   "cell_type": "code",
   "execution_count": 1,
   "metadata": {},
   "outputs": [],
   "source": [
    "import matplotlib.pyplot as plt\n",
    "import numpy as np"
   ]
  },
  {
   "cell_type": "code",
   "execution_count": 16,
   "metadata": {},
   "outputs": [
    {
     "data": {
      "image/png": "[encoded data removed]",
      "text/plain": [
       "<Figure size 576x396 with 1 Axes>"
      ]
     },
     "metadata": {},
     "output_type": "display_data"
    }
   ],
   "source": [
    "u = 5 \n",
    "sigma = 1\n",
    "\n",
    "vals = np.random.randn(1000)*sigma + u\n",
    "plt.hist(vals,10)\n",
    "plt.show()"
   ]
  },
  {
   "cell_type": "code",
   "execution_count": 5,
   "metadata": {},
   "outputs": [],
   "source": [
    "plt.style.use(\"seaborn\")"
   ]
  },
  {
   "cell_type": "code",
   "execution_count": 12,
   "metadata": {},
   "outputs": [],
   "source": [
    "vals = np.round(vals)"
   ]
  },
  {
   "cell_type": "code",
   "execution_count": 13,
   "metadata": {},
   "outputs": [],
   "source": [
    "z = np.unique(vals,return_counts=True)"
   ]
  },
  {
   "cell_type": "code",
   "execution_count": 14,
   "metadata": {},
   "outputs": [
    {
     "data": {
      "text/plain": [
       "(array([2., 3., 4., 5., 6., 7., 8.]),\n",
       " array([  9,  62, 236, 398, 230,  57,   8]))"
      ]
     },
     "execution_count": 14,
     "metadata": {},
     "output_type": "execute_result"
    }
   ],
   "source": [
    "z"
   ]
  },
  {
   "cell_type": "markdown",
   "metadata": {},
   "source": [
    "## Multivariate Normal Distribution"
   ]
  },
  {
   "cell_type": "code",
   "execution_count": 13,
   "metadata": {},
   "outputs": [],
   "source": [
    "mean = np.array([0.0,0.0])\n",
    "cov = np.array([[1,.9],[.9,1]])\n",
    "\n",
    "mean2 = np.array([5.0,6.0])\n",
    "cov2 = np.array([[5,0.2],[0.2,1.1]])\n",
    "\n",
    "dist =np.random.multivariate_normal(mean,cov,500)\n",
    "dist2 = np.random.multivariate_normal(mean2,cov2,500)"
   ]
  },
  {
   "cell_type": "code",
   "execution_count": 14,
   "metadata": {},
   "outputs": [
    {
     "data": {
      "image/png": "[encoded data removed]",
      "text/plain": [
       "<Figure size 576x396 with 1 Axes>"
      ]
     },
     "metadata": {},
     "output_type": "display_data"
    }
   ],
   "source": [
    "plt.style.use(\"seaborn\")\n",
    "plt.scatter(dist[:,0],dist[:,1])\n",
    "plt.scatter(dist2[:,0],dist2[:,1],color=\"red\")\n",
    "plt.show()"
   ]
  },
  {
   "cell_type": "code",
   "execution_count": 45,
   "metadata": {},
   "outputs": [],
   "source": []
  },
  {
   "cell_type": "code",
   "execution_count": 46,
   "metadata": {},
   "outputs": [],
   "source": []
  },
  {
   "cell_type": "code",
   "execution_count": 52,
   "metadata": {},
   "outputs": [],
   "source": [
    "\n"
   ]
  },
  {
   "cell_type": "code",
   "execution_count": 53,
   "metadata": {},
   "outputs": [],
   "source": [
    "# x = 1e-9\n",
    "import numpy as np\n",
    "import matplotlib.pyplot as plt\n",
    "A = 1e-28\n",
    "B = 7.63e-97\n",
    "r = np.linspace(1.75e-10,1e-9,1000000)\n",
    "attractive = -A/r\n",
    "repulsive = B/r**8\n",
    "U = -A/r + B/r**8\n",
    "F = +A/r**2 -8*B/r**9\n",
    "r_eq = .25e-9\n",
    "u_eq = -A/r_eq + B/r_eq**8\n",
    "plt.style.use(\"seaborn\")\n",
    "plt.plot(r,repulsive,label = \"repulsive forces\")\n",
    "plt.plot(r,attractive,label =\"attractive forces\")\n",
    "\n",
    "plt.plot(r,U,label = \"Potential Energy\")\n",
    "plt.annotate(\"Equilibrium point\",(r_eq,u_eq),(r_eq+.09e-9,u_eq-1.9e-19),arrowprops = dict(facecolor ='green',shrink = 0.1))\n",
    "plt.xlabel(\"r(m)\")\n",
    "plt.ylabel(\"Energy(J)\")\n",
    "plt.legend()\n",
    "plt.show()"
   ]
  },
  {
   "cell_type": "code",
   "execution_count": 54,
   "metadata": {},
   "outputs": [
    {
     "data": {
      "image/png": "[encoded data removed]",
      "text/plain": [
       "<Figure size 576x396 with 1 Axes>"
      ]
     },
     "metadata": {},
     "output_type": "display_data"
    }
   ],
   "source": [
    "\n"
   ]
  },
  {
   "cell_type": "code",
   "execution_count": 35,
   "metadata": {},
   "outputs": [],
   "source": []
  },
  {
   "cell_type": "code",
   "execution_count": 36,
   "metadata": {},
   "outputs": [
    {
     "data": {
      "text/plain": [
       "-3.4999603199999995e-19"
      ]
     },
     "execution_count": 36,
     "metadata": {},
     "output_type": "execute_result"
    }
   ],
   "source": [
    "u_eq"
   ]
  },
  {
   "cell_type": "code",
   "execution_count": 60,
   "metadata": {},
   "outputs": [
    {
     "data": {
      "image/png": "[encoded data removed]",
      "text/plain": [
       "<Figure size 576x396 with 1 Axes>"
      ]
     },
     "metadata": {},
     "output_type": "display_data"
    }
   ],
   "source": [
    "import numpy as np\n",
    "import matplotlib.pyplot as plt\n",
    "A = 1e-28\n",
    "B = 7.63e-97\n",
    "r = np.linspace(2.3e-10,.9e-9,1000000)\n",
    "r_eq = .25e-9\n",
    "u_eq = -A/r_eq**2 + B/r_eq**9\n",
    "F = -A/r**2 +8*B/r**9\n",
    "attractive = -A/r**2\n",
    "repulsive = 8*B/r**9\n",
    "plt.plot(r,repulsive,label = \"repulsive forces\")\n",
    "plt.plot(r,attractive,label =\"attractive forces\")\n",
    "\n",
    "plt.plot(r,F,label = \"Force\")\n",
    "\n",
    "# plt.annotate(\"Equilibrium point\",(r_eq,0),(r_eq,u_eq),arrowprops = dict(facecolor ='green',shrink = 0.1))\n",
    "plt.xlabel(\"r(m)\")\n",
    "plt.ylabel(\"Force(J/m)\")\n",
    "plt.legend()\n",
    "plt.show()"
   ]
  },
  {
   "cell_type": "code",
   "execution_count": 23,
   "metadata": {},
   "outputs": [
    {
     "data": {
      "text/plain": [
       "-1.399984128e-09"
      ]
     },
     "execution_count": 23,
     "metadata": {},
     "output_type": "execute_result"
    }
   ],
   "source": [
    "u_eq"
   ]
  }
 ],
 "metadata": {
  "kernelspec": {
   "display_name": "Python 3",
   "language": "python",
   "name": "python3"
  },
  "language_info": {
   "codemirror_mode": {
    "name": "ipython",
    "version": 3
   },
   "file_extension": ".py",
   "mimetype": "text/x-python",
   "name": "python",
   "nbconvert_exporter": "python",
   "pygments_lexer": "ipython3",
   "version": "3.8.3"
  }
 },
 "nbformat": 4,
 "nbformat_minor": 4
}
